{
 "cells": [
  {
   "attachments": {},
   "cell_type": "markdown",
   "id": "85871010",
   "metadata": {},
   "source": [
    "## 머신러닝 응용\n",
    "\n",
    "## 03-04. 앙상블 모델 - Bagging"
   ]
  },
  {
   "attachments": {},
   "cell_type": "markdown",
   "id": "9ed82fa7",
   "metadata": {},
   "source": [
    "Bootstrap aggregating  \n",
    "-> 배깅은 부트스트랩을 통해 재표본을 생성하고, 여러개의 독립적인 모델을 학습시켜 예측 결과를 결합하는 앙상블 학습 방법  \n",
    "\n",
    "Bootstrap  \n",
    "-> 통계학에서 사용되는 배표본추출방법, 랜덤하게 샘플을 선택하고 선택된 샘플로 구성된 재표본을 생성하는 과정  \n",
    "\n",
    "Bagging  \n",
    "-> 전체의 Data set을 가지고 부트스트랩 방식으로 샘플링하여 여러개의 train set 생성 -> 각 train set으로 모델 학습후 조합(평균, 최빈값 등)  \n",
    "\n",
    "OOB(Out Of Bag)  \n",
    "-> 부트스트랩 샘플에 포함되지 않고 남는 데이터 샘플, 즉 이를 기반으로 모델 성능 평가 가능  \n",
    "\n",
    "\n",
    "\n"
   ]
  },
  {
   "attachments": {},
   "cell_type": "markdown",
   "id": "56c18af6",
   "metadata": {},
   "source": [
    "### 0. 데이터 준비하기\n",
    "- **데이터 설명**<br>\n",
    "타이타닉 데이터셋은 1912년에 발생한 타이타닉호의 침몰 사고와 관련된 정보를 담고 있는 데이터셋입니다. 이 데이터셋은 Kaggle에서 제공하며 기계 학습과 데이터 분석을 위해 널리 사용되는 예제 데이터셋 중 하나로, 생존자 예측과 관련된 문제에 대한 연구 및 분석을 수행하는 데 자주 활용됩니다. <br><br>\n",
    "이번 실습에서는 해당 데이터셋의 전처리 작업(결측치 처리, 가변수화, 정규화 등)을 완료한 데이터 파일('titanic_preprocessing.csv')을 활용할 예정이며, 각 컬럼은 다음과 같은 내용을 포함하고 있습니다. \n",
    "\n",
    "| 컬럼명         | 설명                                      |\n",
    "|----------------|--------------------------------------------|\n",
    "| Survived       | 생존 여부 (1: 생존, 0: 사망)               |\n",
    "| Age            | 나이                                       |\n",
    "| SibSp          | 함께 탑승한 형제자매 또는 배우자의 수       |\n",
    "| Parch          | 함께 탑승한 부모 또는 자녀의 수             |\n",
    "| Fare           | 운임 요금                                  |\n",
    "| Title_Mr       | Mr. 호칭을 갖는 탑승객 여부 (1: 해당, 0: 해당X) |\n",
    "| Title_Mrs      | Mrs. 호칭을 갖는 탑승객 여부 (1: 해당, 0: 해당X)|\n",
    "| Title_Others   | Mr., Mrs. Miss 이외의 호칭을 갖는 탑승객 여부  |\n",
    "| Pclass_2       | 2등석 여부 (1: 해당, 0: 해당X)              |\n",
    "| Pclass_3       | 3등석 여부 (1: 해당, 0: 해당X)              |\n",
    "| Sex_male       | 성별이 남성인지 여부 (1: 남성, 0: 여성)     |\n",
    "| Embarked_Q     | 탑승지가 Queenstown인지 여부 (1: 해당, 0: 해당X)|\n",
    "| Embarked_S     | 탑승지가 Southampton인지 여부 (1: 해당, 0: 해당X)|\n"
   ]
  },
  {
   "attachments": {},
   "cell_type": "markdown",
   "id": "f184fa36",
   "metadata": {},
   "source": [
    "#### 1️⃣ 데이터 불러오기"
   ]
  },
  {
   "cell_type": "code",
   "execution_count": 1,
   "id": "5ce3ec65",
   "metadata": {},
   "outputs": [],
   "source": [
    "# 라이브러리 불러오기\n",
    "import pandas as pd\n",
    "import matplotlib.pyplot as plt\n",
    "import seaborn as sns\n",
    "\n",
    "import warnings\n",
    "warnings.filterwarnings(action='ignore')"
   ]
  },
  {
   "cell_type": "code",
   "execution_count": 2,
   "id": "13820254",
   "metadata": {},
   "outputs": [],
   "source": [
    "# 데이터 읽어오기\n",
    "df = pd.read_csv(\"./data/titanic_preprocessing.csv\")"
   ]
  },
  {
   "cell_type": "code",
   "execution_count": 3,
   "id": "d37100b4",
   "metadata": {
    "scrolled": false
   },
   "outputs": [
    {
     "data": {
      "text/html": [
       "<div>\n",
       "<style scoped>\n",
       "    .dataframe tbody tr th:only-of-type {\n",
       "        vertical-align: middle;\n",
       "    }\n",
       "\n",
       "    .dataframe tbody tr th {\n",
       "        vertical-align: top;\n",
       "    }\n",
       "\n",
       "    .dataframe thead th {\n",
       "        text-align: right;\n",
       "    }\n",
       "</style>\n",
       "<table border=\"1\" class=\"dataframe\">\n",
       "  <thead>\n",
       "    <tr style=\"text-align: right;\">\n",
       "      <th></th>\n",
       "      <th>Survived</th>\n",
       "      <th>Age</th>\n",
       "      <th>SibSp</th>\n",
       "      <th>Parch</th>\n",
       "      <th>Fare</th>\n",
       "      <th>Title_Mr</th>\n",
       "      <th>Title_Mrs</th>\n",
       "      <th>Title_Others</th>\n",
       "      <th>Pclass_2</th>\n",
       "      <th>Pclass_3</th>\n",
       "      <th>Sex_male</th>\n",
       "      <th>Embarked_Q</th>\n",
       "      <th>Embarked_S</th>\n",
       "    </tr>\n",
       "  </thead>\n",
       "  <tbody>\n",
       "    <tr>\n",
       "      <th>0</th>\n",
       "      <td>0.0</td>\n",
       "      <td>0.271174</td>\n",
       "      <td>0.125</td>\n",
       "      <td>0.0</td>\n",
       "      <td>0.014151</td>\n",
       "      <td>1.0</td>\n",
       "      <td>0.0</td>\n",
       "      <td>0.0</td>\n",
       "      <td>0.0</td>\n",
       "      <td>1.0</td>\n",
       "      <td>1.0</td>\n",
       "      <td>0.0</td>\n",
       "      <td>1.0</td>\n",
       "    </tr>\n",
       "    <tr>\n",
       "      <th>1</th>\n",
       "      <td>1.0</td>\n",
       "      <td>0.472229</td>\n",
       "      <td>0.125</td>\n",
       "      <td>0.0</td>\n",
       "      <td>0.139136</td>\n",
       "      <td>0.0</td>\n",
       "      <td>1.0</td>\n",
       "      <td>0.0</td>\n",
       "      <td>0.0</td>\n",
       "      <td>0.0</td>\n",
       "      <td>0.0</td>\n",
       "      <td>0.0</td>\n",
       "      <td>0.0</td>\n",
       "    </tr>\n",
       "    <tr>\n",
       "      <th>2</th>\n",
       "      <td>1.0</td>\n",
       "      <td>0.321438</td>\n",
       "      <td>0.000</td>\n",
       "      <td>0.0</td>\n",
       "      <td>0.015469</td>\n",
       "      <td>0.0</td>\n",
       "      <td>0.0</td>\n",
       "      <td>0.0</td>\n",
       "      <td>0.0</td>\n",
       "      <td>1.0</td>\n",
       "      <td>0.0</td>\n",
       "      <td>0.0</td>\n",
       "      <td>1.0</td>\n",
       "    </tr>\n",
       "    <tr>\n",
       "      <th>3</th>\n",
       "      <td>1.0</td>\n",
       "      <td>0.434531</td>\n",
       "      <td>0.125</td>\n",
       "      <td>0.0</td>\n",
       "      <td>0.103644</td>\n",
       "      <td>0.0</td>\n",
       "      <td>1.0</td>\n",
       "      <td>0.0</td>\n",
       "      <td>0.0</td>\n",
       "      <td>0.0</td>\n",
       "      <td>0.0</td>\n",
       "      <td>0.0</td>\n",
       "      <td>1.0</td>\n",
       "    </tr>\n",
       "    <tr>\n",
       "      <th>4</th>\n",
       "      <td>0.0</td>\n",
       "      <td>0.434531</td>\n",
       "      <td>0.000</td>\n",
       "      <td>0.0</td>\n",
       "      <td>0.015713</td>\n",
       "      <td>1.0</td>\n",
       "      <td>0.0</td>\n",
       "      <td>0.0</td>\n",
       "      <td>0.0</td>\n",
       "      <td>1.0</td>\n",
       "      <td>1.0</td>\n",
       "      <td>0.0</td>\n",
       "      <td>1.0</td>\n",
       "    </tr>\n",
       "  </tbody>\n",
       "</table>\n",
       "</div>"
      ],
      "text/plain": [
       "   Survived       Age  SibSp  Parch      Fare  Title_Mr  Title_Mrs  \\\n",
       "0       0.0  0.271174  0.125    0.0  0.014151       1.0        0.0   \n",
       "1       1.0  0.472229  0.125    0.0  0.139136       0.0        1.0   \n",
       "2       1.0  0.321438  0.000    0.0  0.015469       0.0        0.0   \n",
       "3       1.0  0.434531  0.125    0.0  0.103644       0.0        1.0   \n",
       "4       0.0  0.434531  0.000    0.0  0.015713       1.0        0.0   \n",
       "\n",
       "   Title_Others  Pclass_2  Pclass_3  Sex_male  Embarked_Q  Embarked_S  \n",
       "0           0.0       0.0       1.0       1.0         0.0         1.0  \n",
       "1           0.0       0.0       0.0       0.0         0.0         0.0  \n",
       "2           0.0       0.0       1.0       0.0         0.0         1.0  \n",
       "3           0.0       0.0       0.0       0.0         0.0         1.0  \n",
       "4           0.0       0.0       1.0       1.0         0.0         1.0  "
      ]
     },
     "execution_count": 3,
     "metadata": {},
     "output_type": "execute_result"
    }
   ],
   "source": [
    "# 샘플 데이터 확인하기\n",
    "df.head()"
   ]
  },
  {
   "attachments": {},
   "cell_type": "markdown",
   "id": "2e6db3fa",
   "metadata": {},
   "source": [
    "#### 2️⃣ 데이터 분리하기"
   ]
  },
  {
   "cell_type": "code",
   "execution_count": 5,
   "id": "c67f8d4a",
   "metadata": {},
   "outputs": [],
   "source": [
    "# Feature는 x, Target은 y 로 저장합니다.\n",
    "x = df.drop(columns=['Survived'])\n",
    "y = df['Survived']"
   ]
  },
  {
   "cell_type": "code",
   "execution_count": 6,
   "id": "853746bb",
   "metadata": {},
   "outputs": [],
   "source": [
    "# sklearn 패키키 증 train_test_split 함수 불러오기\n",
    "from sklearn.model_selection import train_test_split\n",
    "\n",
    "# Feature와 Target을 train, test 데이터 셋으로 나누기\n",
    "x_train, x_test, y_train, y_test = train_test_split(x, y, test_size=0.2, random_state=42)\n"
   ]
  },
  {
   "attachments": {},
   "cell_type": "markdown",
   "id": "c942802e",
   "metadata": {},
   "source": [
    "---"
   ]
  },
  {
   "attachments": {},
   "cell_type": "markdown",
   "id": "c2b638df",
   "metadata": {},
   "source": [
    "### 1. RandomForest 모델"
   ]
  },
  {
   "attachments": {},
   "cell_type": "markdown",
   "id": "81dfa245",
   "metadata": {},
   "source": [
    "#### 1️⃣ 라이브러리 호출하기"
   ]
  },
  {
   "cell_type": "code",
   "execution_count": 7,
   "id": "31fbe961",
   "metadata": {},
   "outputs": [],
   "source": [
    "from sklearn.ensemble import RandomForestClassifier\n",
    "from sklearn.metrics import classification_report"
   ]
  },
  {
   "attachments": {},
   "cell_type": "markdown",
   "id": "05aa3e54",
   "metadata": {},
   "source": [
    "#### 2️⃣ 선언하기 \n",
    "RandomForestClassifier 클래스 객체 생성하기<br><br>\n",
    "**📌 <font color='red'>주의사항</font>**<br>\n",
    "랜덤 포레스트에서의 랜덤 시드는 주로 **'random state'** 파라미터를 통해 설정됩니다. <br>이 값을 지정하지 않으면 매번 다른 결과가 나오게 되며, 동일한 값을 사용하면 항상 동일한 예측 결과를 얻을 수 있습니다.<br>\n",
    "***추후 있을 모델 성능 최적화 작업 시에는 반드시 'random_state' 값을 고정하고 최적화 작업을 진행해야 합니다.***"
   ]
  },
  {
   "cell_type": "code",
   "execution_count": 8,
   "id": "5b896561",
   "metadata": {},
   "outputs": [],
   "source": [
    "# 모델 생성\n",
    "model_rf = RandomForestClassifier(random_state=42)"
   ]
  },
  {
   "attachments": {},
   "cell_type": "markdown",
   "id": "c5ab4043",
   "metadata": {},
   "source": [
    "#### 3️⃣ 학습하기\n",
    "fit 메서드로 가중치 값을 추정한다."
   ]
  },
  {
   "cell_type": "code",
   "execution_count": 9,
   "id": "c82bec4b",
   "metadata": {
    "scrolled": false
   },
   "outputs": [
    {
     "data": {
      "text/html": [
       "<style>#sk-container-id-1 {color: black;background-color: white;}#sk-container-id-1 pre{padding: 0;}#sk-container-id-1 div.sk-toggleable {background-color: white;}#sk-container-id-1 label.sk-toggleable__label {cursor: pointer;display: block;width: 100%;margin-bottom: 0;padding: 0.3em;box-sizing: border-box;text-align: center;}#sk-container-id-1 label.sk-toggleable__label-arrow:before {content: \"▸\";float: left;margin-right: 0.25em;color: #696969;}#sk-container-id-1 label.sk-toggleable__label-arrow:hover:before {color: black;}#sk-container-id-1 div.sk-estimator:hover label.sk-toggleable__label-arrow:before {color: black;}#sk-container-id-1 div.sk-toggleable__content {max-height: 0;max-width: 0;overflow: hidden;text-align: left;background-color: #f0f8ff;}#sk-container-id-1 div.sk-toggleable__content pre {margin: 0.2em;color: black;border-radius: 0.25em;background-color: #f0f8ff;}#sk-container-id-1 input.sk-toggleable__control:checked~div.sk-toggleable__content {max-height: 200px;max-width: 100%;overflow: auto;}#sk-container-id-1 input.sk-toggleable__control:checked~label.sk-toggleable__label-arrow:before {content: \"▾\";}#sk-container-id-1 div.sk-estimator input.sk-toggleable__control:checked~label.sk-toggleable__label {background-color: #d4ebff;}#sk-container-id-1 div.sk-label input.sk-toggleable__control:checked~label.sk-toggleable__label {background-color: #d4ebff;}#sk-container-id-1 input.sk-hidden--visually {border: 0;clip: rect(1px 1px 1px 1px);clip: rect(1px, 1px, 1px, 1px);height: 1px;margin: -1px;overflow: hidden;padding: 0;position: absolute;width: 1px;}#sk-container-id-1 div.sk-estimator {font-family: monospace;background-color: #f0f8ff;border: 1px dotted black;border-radius: 0.25em;box-sizing: border-box;margin-bottom: 0.5em;}#sk-container-id-1 div.sk-estimator:hover {background-color: #d4ebff;}#sk-container-id-1 div.sk-parallel-item::after {content: \"\";width: 100%;border-bottom: 1px solid gray;flex-grow: 1;}#sk-container-id-1 div.sk-label:hover label.sk-toggleable__label {background-color: #d4ebff;}#sk-container-id-1 div.sk-serial::before {content: \"\";position: absolute;border-left: 1px solid gray;box-sizing: border-box;top: 0;bottom: 0;left: 50%;z-index: 0;}#sk-container-id-1 div.sk-serial {display: flex;flex-direction: column;align-items: center;background-color: white;padding-right: 0.2em;padding-left: 0.2em;position: relative;}#sk-container-id-1 div.sk-item {position: relative;z-index: 1;}#sk-container-id-1 div.sk-parallel {display: flex;align-items: stretch;justify-content: center;background-color: white;position: relative;}#sk-container-id-1 div.sk-item::before, #sk-container-id-1 div.sk-parallel-item::before {content: \"\";position: absolute;border-left: 1px solid gray;box-sizing: border-box;top: 0;bottom: 0;left: 50%;z-index: -1;}#sk-container-id-1 div.sk-parallel-item {display: flex;flex-direction: column;z-index: 1;position: relative;background-color: white;}#sk-container-id-1 div.sk-parallel-item:first-child::after {align-self: flex-end;width: 50%;}#sk-container-id-1 div.sk-parallel-item:last-child::after {align-self: flex-start;width: 50%;}#sk-container-id-1 div.sk-parallel-item:only-child::after {width: 0;}#sk-container-id-1 div.sk-dashed-wrapped {border: 1px dashed gray;margin: 0 0.4em 0.5em 0.4em;box-sizing: border-box;padding-bottom: 0.4em;background-color: white;}#sk-container-id-1 div.sk-label label {font-family: monospace;font-weight: bold;display: inline-block;line-height: 1.2em;}#sk-container-id-1 div.sk-label-container {text-align: center;}#sk-container-id-1 div.sk-container {/* jupyter's `normalize.less` sets `[hidden] { display: none; }` but bootstrap.min.css set `[hidden] { display: none !important; }` so we also need the `!important` here to be able to override the default hidden behavior on the sphinx rendered scikit-learn.org. See: https://github.com/scikit-learn/scikit-learn/issues/21755 */display: inline-block !important;position: relative;}#sk-container-id-1 div.sk-text-repr-fallback {display: none;}</style><div id=\"sk-container-id-1\" class=\"sk-top-container\"><div class=\"sk-text-repr-fallback\"><pre>RandomForestClassifier(random_state=42)</pre><b>In a Jupyter environment, please rerun this cell to show the HTML representation or trust the notebook. <br />On GitHub, the HTML representation is unable to render, please try loading this page with nbviewer.org.</b></div><div class=\"sk-container\" hidden><div class=\"sk-item\"><div class=\"sk-estimator sk-toggleable\"><input class=\"sk-toggleable__control sk-hidden--visually\" id=\"sk-estimator-id-1\" type=\"checkbox\" checked><label for=\"sk-estimator-id-1\" class=\"sk-toggleable__label sk-toggleable__label-arrow\">RandomForestClassifier</label><div class=\"sk-toggleable__content\"><pre>RandomForestClassifier(random_state=42)</pre></div></div></div></div></div>"
      ],
      "text/plain": [
       "RandomForestClassifier(random_state=42)"
      ]
     },
     "execution_count": 9,
     "metadata": {},
     "output_type": "execute_result"
    }
   ],
   "source": [
    "model_rf.fit(x_train, y_train)"
   ]
  },
  {
   "attachments": {},
   "cell_type": "markdown",
   "id": "581e74e7",
   "metadata": {},
   "source": [
    "#### 4️⃣ 예측하기\n",
    "predict 메서드로 새로운 입력 데이터에 대한 출력 데이터 예측\n",
    "\n"
   ]
  },
  {
   "cell_type": "code",
   "execution_count": 10,
   "id": "fe37713f",
   "metadata": {},
   "outputs": [],
   "source": [
    "y_pred = model_rf.predict(x_test)"
   ]
  },
  {
   "attachments": {},
   "cell_type": "markdown",
   "id": "0383281b",
   "metadata": {},
   "source": [
    "#### 5️⃣ 평가하기"
   ]
  },
  {
   "cell_type": "code",
   "execution_count": 11,
   "id": "a887cadc",
   "metadata": {
    "scrolled": true
   },
   "outputs": [
    {
     "name": "stdout",
     "output_type": "stream",
     "text": [
      "[classification_report]\n",
      "              precision    recall  f1-score   support\n",
      "\n",
      "         0.0       0.87      0.87      0.87       105\n",
      "         1.0       0.81      0.81      0.81        74\n",
      "\n",
      "    accuracy                           0.84       179\n",
      "   macro avg       0.84      0.84      0.84       179\n",
      "weighted avg       0.84      0.84      0.84       179\n",
      "\n"
     ]
    }
   ],
   "source": [
    "print(\"[classification_report]\")\n",
    "print(classification_report(y_test, y_pred))"
   ]
  },
  {
   "attachments": {},
   "cell_type": "markdown",
   "id": "2703c7b0",
   "metadata": {},
   "source": [
    "#### 6️⃣ 파라미터 조정하기\n",
    "> - n_estimators : 의사 결정 트리의 개수<br> \n",
    "> 일반적으로 더 많은 트리를 사용할수록 모델의 성능이 향상되지만, 학습 속도는 느려집니다. 이 값을 적절히 조정하여 과적합과 학습 시간 사이의 균형을 맞추어야 합니다.<br>\n",
    "> - max_depth : 의사 결정 트리의 최대 깊이 <br>\n",
    "> 트리의 깊이가 깊어질수록 모델의 복잡도가 증가하고 과적합의 위험이 커집니다. 이 값을 제한함으로써 모델의 일반화 성능을 향상시킬 수 있습니다. <br>\n",
    "> - min_samples_split: 내부 노드를 분할하기 위해 필요한 최소 샘플 수<br> \n",
    "> 이 값보다 작은 수의 샘플이 있는 노드만 분할이 가능합니다. 작은 값은 모델이 더 복잡해지고 과적합의 위험이 커질 수 있지만, 큰 값은 모델이 덜 유연해지고 과소적합의 위험이 커질 수 있습니다.<br>\n",
    "> - min_samples_leaf: 리프 노드가 되기 위해 필요한 최소 샘플 수. <br>\n",
    "> 이 값보다 작은 수의 샘플이 있는 리프 노드는 분할되지 않습니다. 작은 값은 모델이 더 자세하게 학습되고 과적합의 위험이 커질 수 있지만, 큰 값은 모델이 덜 자세하게 학습되고 과소적합의 위험이 커질 수 있습니다.<br>\n",
    "> - max_features: 각 의사 결정 트리가 분할에 사용할 특성의 최대 개수<br>\n",
    "> 작은 값은 모델이 더 간단해지고 과소적합의 위험이 커질 수 있지만, 큰 값은 모델이 더 복잡해지고 과적합의 위험이 커질 수 있습니다.<br>\n",
    "> - oob_score: oob_score 파라미터를 True로 설정하면, 랜덤 포레스트 모델이 학습 과정에서 사용하지 않는 oob 샘플을 자동으로 식별합니다. 그리고 이러한 oob 샘플을 통해 모델의 성능을 평가합니다."
   ]
  },
  {
   "cell_type": "code",
   "execution_count": 13,
   "id": "50338f6c",
   "metadata": {
    "scrolled": true
   },
   "outputs": [
    {
     "name": "stdout",
     "output_type": "stream",
     "text": [
      "[classification_report]\n",
      "              precision    recall  f1-score   support\n",
      "\n",
      "         0.0       0.87      0.88      0.87       105\n",
      "         1.0       0.82      0.81      0.82        74\n",
      "\n",
      "    accuracy                           0.85       179\n",
      "   macro avg       0.84      0.84      0.84       179\n",
      "weighted avg       0.85      0.85      0.85       179\n",
      "\n"
     ]
    }
   ],
   "source": [
    "# 모델 선언\n",
    "model_rf2 = RandomForestClassifier(n_estimators=300,  random_state=42, oob_score=True)\n",
    "\n",
    "# 모델 학습\n",
    "model_rf2.fit(x_train, y_train)\n",
    "\n",
    "# 모델 예측\n",
    "y_pred = model_rf2.predict(x_test)\n",
    "\n",
    "# 모델 평가 \n",
    "print(\"[classification_report]\")\n",
    "print(classification_report(y_test, y_pred))"
   ]
  },
  {
   "cell_type": "code",
   "execution_count": 14,
   "id": "0725e047",
   "metadata": {},
   "outputs": [
    {
     "name": "stdout",
     "output_type": "stream",
     "text": [
      "OOB Score: 0.8089887640449438\n"
     ]
    }
   ],
   "source": [
    "# oob 점수 확인\n",
    "oob_score = model_rf2.oob_score_\n",
    "print(\"OOB Score:\", oob_score)"
   ]
  },
  {
   "attachments": {},
   "cell_type": "markdown",
   "id": "bd12bc37",
   "metadata": {},
   "source": [
    "---"
   ]
  },
  {
   "attachments": {},
   "cell_type": "markdown",
   "id": "15b7f70e",
   "metadata": {},
   "source": [
    "### 2. Extra Tree 모델"
   ]
  },
  {
   "attachments": {},
   "cell_type": "markdown",
   "id": "5a8538a4",
   "metadata": {},
   "source": [
    "#### 1️⃣ 라이브러리 호출하기"
   ]
  },
  {
   "cell_type": "code",
   "execution_count": 15,
   "id": "0579b6c5",
   "metadata": {},
   "outputs": [],
   "source": [
    "from sklearn.ensemble import ExtraTreesClassifier\n",
    "from sklearn.metrics import classification_report"
   ]
  },
  {
   "attachments": {},
   "cell_type": "markdown",
   "id": "abed548f",
   "metadata": {},
   "source": [
    "#### 2️⃣ 선언하기\n",
    "ExtraTreesClassifier 클래스 객체 생성하기<br>\n",
    "\n",
    "**📌 <font color='red'>주의사항</font>**<br>\n",
    "트리의 노드를 무작위로 분할하는 특징 때문에, 보통 Random Forest보다 결정트리 수('n_estimators')를 크게 하는 것이 좋습니다. "
   ]
  },
  {
   "cell_type": "code",
   "execution_count": 16,
   "id": "b08fd3d3",
   "metadata": {},
   "outputs": [],
   "source": [
    "model_et = ExtraTreesClassifier(n_estimators=1000, random_state=42)"
   ]
  },
  {
   "attachments": {},
   "cell_type": "markdown",
   "id": "72cc49d8",
   "metadata": {},
   "source": [
    "#### 3️⃣ 학습하기"
   ]
  },
  {
   "cell_type": "code",
   "execution_count": 17,
   "id": "23d79311",
   "metadata": {},
   "outputs": [
    {
     "data": {
      "text/html": [
       "<style>#sk-container-id-2 {color: black;background-color: white;}#sk-container-id-2 pre{padding: 0;}#sk-container-id-2 div.sk-toggleable {background-color: white;}#sk-container-id-2 label.sk-toggleable__label {cursor: pointer;display: block;width: 100%;margin-bottom: 0;padding: 0.3em;box-sizing: border-box;text-align: center;}#sk-container-id-2 label.sk-toggleable__label-arrow:before {content: \"▸\";float: left;margin-right: 0.25em;color: #696969;}#sk-container-id-2 label.sk-toggleable__label-arrow:hover:before {color: black;}#sk-container-id-2 div.sk-estimator:hover label.sk-toggleable__label-arrow:before {color: black;}#sk-container-id-2 div.sk-toggleable__content {max-height: 0;max-width: 0;overflow: hidden;text-align: left;background-color: #f0f8ff;}#sk-container-id-2 div.sk-toggleable__content pre {margin: 0.2em;color: black;border-radius: 0.25em;background-color: #f0f8ff;}#sk-container-id-2 input.sk-toggleable__control:checked~div.sk-toggleable__content {max-height: 200px;max-width: 100%;overflow: auto;}#sk-container-id-2 input.sk-toggleable__control:checked~label.sk-toggleable__label-arrow:before {content: \"▾\";}#sk-container-id-2 div.sk-estimator input.sk-toggleable__control:checked~label.sk-toggleable__label {background-color: #d4ebff;}#sk-container-id-2 div.sk-label input.sk-toggleable__control:checked~label.sk-toggleable__label {background-color: #d4ebff;}#sk-container-id-2 input.sk-hidden--visually {border: 0;clip: rect(1px 1px 1px 1px);clip: rect(1px, 1px, 1px, 1px);height: 1px;margin: -1px;overflow: hidden;padding: 0;position: absolute;width: 1px;}#sk-container-id-2 div.sk-estimator {font-family: monospace;background-color: #f0f8ff;border: 1px dotted black;border-radius: 0.25em;box-sizing: border-box;margin-bottom: 0.5em;}#sk-container-id-2 div.sk-estimator:hover {background-color: #d4ebff;}#sk-container-id-2 div.sk-parallel-item::after {content: \"\";width: 100%;border-bottom: 1px solid gray;flex-grow: 1;}#sk-container-id-2 div.sk-label:hover label.sk-toggleable__label {background-color: #d4ebff;}#sk-container-id-2 div.sk-serial::before {content: \"\";position: absolute;border-left: 1px solid gray;box-sizing: border-box;top: 0;bottom: 0;left: 50%;z-index: 0;}#sk-container-id-2 div.sk-serial {display: flex;flex-direction: column;align-items: center;background-color: white;padding-right: 0.2em;padding-left: 0.2em;position: relative;}#sk-container-id-2 div.sk-item {position: relative;z-index: 1;}#sk-container-id-2 div.sk-parallel {display: flex;align-items: stretch;justify-content: center;background-color: white;position: relative;}#sk-container-id-2 div.sk-item::before, #sk-container-id-2 div.sk-parallel-item::before {content: \"\";position: absolute;border-left: 1px solid gray;box-sizing: border-box;top: 0;bottom: 0;left: 50%;z-index: -1;}#sk-container-id-2 div.sk-parallel-item {display: flex;flex-direction: column;z-index: 1;position: relative;background-color: white;}#sk-container-id-2 div.sk-parallel-item:first-child::after {align-self: flex-end;width: 50%;}#sk-container-id-2 div.sk-parallel-item:last-child::after {align-self: flex-start;width: 50%;}#sk-container-id-2 div.sk-parallel-item:only-child::after {width: 0;}#sk-container-id-2 div.sk-dashed-wrapped {border: 1px dashed gray;margin: 0 0.4em 0.5em 0.4em;box-sizing: border-box;padding-bottom: 0.4em;background-color: white;}#sk-container-id-2 div.sk-label label {font-family: monospace;font-weight: bold;display: inline-block;line-height: 1.2em;}#sk-container-id-2 div.sk-label-container {text-align: center;}#sk-container-id-2 div.sk-container {/* jupyter's `normalize.less` sets `[hidden] { display: none; }` but bootstrap.min.css set `[hidden] { display: none !important; }` so we also need the `!important` here to be able to override the default hidden behavior on the sphinx rendered scikit-learn.org. See: https://github.com/scikit-learn/scikit-learn/issues/21755 */display: inline-block !important;position: relative;}#sk-container-id-2 div.sk-text-repr-fallback {display: none;}</style><div id=\"sk-container-id-2\" class=\"sk-top-container\"><div class=\"sk-text-repr-fallback\"><pre>ExtraTreesClassifier(n_estimators=1000, random_state=42)</pre><b>In a Jupyter environment, please rerun this cell to show the HTML representation or trust the notebook. <br />On GitHub, the HTML representation is unable to render, please try loading this page with nbviewer.org.</b></div><div class=\"sk-container\" hidden><div class=\"sk-item\"><div class=\"sk-estimator sk-toggleable\"><input class=\"sk-toggleable__control sk-hidden--visually\" id=\"sk-estimator-id-2\" type=\"checkbox\" checked><label for=\"sk-estimator-id-2\" class=\"sk-toggleable__label sk-toggleable__label-arrow\">ExtraTreesClassifier</label><div class=\"sk-toggleable__content\"><pre>ExtraTreesClassifier(n_estimators=1000, random_state=42)</pre></div></div></div></div></div>"
      ],
      "text/plain": [
       "ExtraTreesClassifier(n_estimators=1000, random_state=42)"
      ]
     },
     "execution_count": 17,
     "metadata": {},
     "output_type": "execute_result"
    }
   ],
   "source": [
    "model_et.fit(x_train, y_train)"
   ]
  },
  {
   "attachments": {},
   "cell_type": "markdown",
   "id": "4a69e3e8",
   "metadata": {},
   "source": [
    "#### 4️⃣ 예측하기"
   ]
  },
  {
   "cell_type": "code",
   "execution_count": 18,
   "id": "47d2a79d",
   "metadata": {},
   "outputs": [],
   "source": [
    "y_pred = model_et.predict(x_test)"
   ]
  },
  {
   "attachments": {},
   "cell_type": "markdown",
   "id": "045ccd93",
   "metadata": {},
   "source": [
    "#### 5️⃣ 평가하기"
   ]
  },
  {
   "cell_type": "code",
   "execution_count": 19,
   "id": "c9635474",
   "metadata": {
    "scrolled": true
   },
   "outputs": [
    {
     "name": "stdout",
     "output_type": "stream",
     "text": [
      "[classification_report]\n",
      "              precision    recall  f1-score   support\n",
      "\n",
      "         0.0       0.86      0.81      0.83       105\n",
      "         1.0       0.75      0.81      0.78        74\n",
      "\n",
      "    accuracy                           0.81       179\n",
      "   macro avg       0.80      0.81      0.81       179\n",
      "weighted avg       0.81      0.81      0.81       179\n",
      "\n"
     ]
    }
   ],
   "source": [
    "print(\"[classification_report]\")\n",
    "print(classification_report(y_test, y_pred))"
   ]
  },
  {
   "attachments": {},
   "cell_type": "markdown",
   "id": "a1fe3acb",
   "metadata": {},
   "source": [
    "---"
   ]
  },
  {
   "attachments": {},
   "cell_type": "markdown",
   "id": "a84abbdb",
   "metadata": {},
   "source": [
    "### 3. Feature Importance"
   ]
  },
  {
   "attachments": {},
   "cell_type": "markdown",
   "id": "162a6222",
   "metadata": {},
   "source": [
    "#### 1️⃣ 특성 중요도 추출하여 데이터 프레임 만들기"
   ]
  },
  {
   "cell_type": "code",
   "execution_count": 20,
   "id": "85308344",
   "metadata": {},
   "outputs": [],
   "source": [
    "# Random Forest 모델 특성 중요도 추출\n",
    "importances = model_rf.feature_importances_"
   ]
  },
  {
   "cell_type": "code",
   "execution_count": 21,
   "id": "8ad8afa0",
   "metadata": {
    "scrolled": true
   },
   "outputs": [
    {
     "data": {
      "text/plain": [
       "array([0.22000575, 0.05211409, 0.03581687, 0.25648177, 0.12050399,\n",
       "       0.03413297, 0.00982117, 0.01806091, 0.06194318, 0.15496484,\n",
       "       0.0104982 , 0.02565627])"
      ]
     },
     "execution_count": 21,
     "metadata": {},
     "output_type": "execute_result"
    }
   ],
   "source": [
    "importances"
   ]
  },
  {
   "cell_type": "code",
   "execution_count": 22,
   "id": "dc9e7315",
   "metadata": {},
   "outputs": [],
   "source": [
    "# 특성 중요도를 데이터프레임으로 변환\n",
    "feature_importances = pd.DataFrame({'Feature': x.columns, \n",
    "                                    'Importance': importances})"
   ]
  },
  {
   "cell_type": "code",
   "execution_count": 23,
   "id": "70925a90",
   "metadata": {},
   "outputs": [
    {
     "data": {
      "text/html": [
       "<div>\n",
       "<style scoped>\n",
       "    .dataframe tbody tr th:only-of-type {\n",
       "        vertical-align: middle;\n",
       "    }\n",
       "\n",
       "    .dataframe tbody tr th {\n",
       "        vertical-align: top;\n",
       "    }\n",
       "\n",
       "    .dataframe thead th {\n",
       "        text-align: right;\n",
       "    }\n",
       "</style>\n",
       "<table border=\"1\" class=\"dataframe\">\n",
       "  <thead>\n",
       "    <tr style=\"text-align: right;\">\n",
       "      <th></th>\n",
       "      <th>Feature</th>\n",
       "      <th>Importance</th>\n",
       "    </tr>\n",
       "  </thead>\n",
       "  <tbody>\n",
       "    <tr>\n",
       "      <th>0</th>\n",
       "      <td>Age</td>\n",
       "      <td>0.220006</td>\n",
       "    </tr>\n",
       "    <tr>\n",
       "      <th>1</th>\n",
       "      <td>SibSp</td>\n",
       "      <td>0.052114</td>\n",
       "    </tr>\n",
       "    <tr>\n",
       "      <th>2</th>\n",
       "      <td>Parch</td>\n",
       "      <td>0.035817</td>\n",
       "    </tr>\n",
       "    <tr>\n",
       "      <th>3</th>\n",
       "      <td>Fare</td>\n",
       "      <td>0.256482</td>\n",
       "    </tr>\n",
       "    <tr>\n",
       "      <th>4</th>\n",
       "      <td>Title_Mr</td>\n",
       "      <td>0.120504</td>\n",
       "    </tr>\n",
       "    <tr>\n",
       "      <th>5</th>\n",
       "      <td>Title_Mrs</td>\n",
       "      <td>0.034133</td>\n",
       "    </tr>\n",
       "    <tr>\n",
       "      <th>6</th>\n",
       "      <td>Title_Others</td>\n",
       "      <td>0.009821</td>\n",
       "    </tr>\n",
       "    <tr>\n",
       "      <th>7</th>\n",
       "      <td>Pclass_2</td>\n",
       "      <td>0.018061</td>\n",
       "    </tr>\n",
       "    <tr>\n",
       "      <th>8</th>\n",
       "      <td>Pclass_3</td>\n",
       "      <td>0.061943</td>\n",
       "    </tr>\n",
       "    <tr>\n",
       "      <th>9</th>\n",
       "      <td>Sex_male</td>\n",
       "      <td>0.154965</td>\n",
       "    </tr>\n",
       "    <tr>\n",
       "      <th>10</th>\n",
       "      <td>Embarked_Q</td>\n",
       "      <td>0.010498</td>\n",
       "    </tr>\n",
       "    <tr>\n",
       "      <th>11</th>\n",
       "      <td>Embarked_S</td>\n",
       "      <td>0.025656</td>\n",
       "    </tr>\n",
       "  </tbody>\n",
       "</table>\n",
       "</div>"
      ],
      "text/plain": [
       "         Feature  Importance\n",
       "0            Age    0.220006\n",
       "1          SibSp    0.052114\n",
       "2          Parch    0.035817\n",
       "3           Fare    0.256482\n",
       "4       Title_Mr    0.120504\n",
       "5      Title_Mrs    0.034133\n",
       "6   Title_Others    0.009821\n",
       "7       Pclass_2    0.018061\n",
       "8       Pclass_3    0.061943\n",
       "9       Sex_male    0.154965\n",
       "10    Embarked_Q    0.010498\n",
       "11    Embarked_S    0.025656"
      ]
     },
     "execution_count": 23,
     "metadata": {},
     "output_type": "execute_result"
    }
   ],
   "source": [
    "feature_importances"
   ]
  },
  {
   "cell_type": "code",
   "execution_count": 24,
   "id": "7b9018a6",
   "metadata": {
    "scrolled": true
   },
   "outputs": [
    {
     "data": {
      "text/html": [
       "<div>\n",
       "<style scoped>\n",
       "    .dataframe tbody tr th:only-of-type {\n",
       "        vertical-align: middle;\n",
       "    }\n",
       "\n",
       "    .dataframe tbody tr th {\n",
       "        vertical-align: top;\n",
       "    }\n",
       "\n",
       "    .dataframe thead th {\n",
       "        text-align: right;\n",
       "    }\n",
       "</style>\n",
       "<table border=\"1\" class=\"dataframe\">\n",
       "  <thead>\n",
       "    <tr style=\"text-align: right;\">\n",
       "      <th></th>\n",
       "      <th>Feature</th>\n",
       "      <th>Importance</th>\n",
       "    </tr>\n",
       "  </thead>\n",
       "  <tbody>\n",
       "    <tr>\n",
       "      <th>3</th>\n",
       "      <td>Fare</td>\n",
       "      <td>0.256482</td>\n",
       "    </tr>\n",
       "    <tr>\n",
       "      <th>0</th>\n",
       "      <td>Age</td>\n",
       "      <td>0.220006</td>\n",
       "    </tr>\n",
       "    <tr>\n",
       "      <th>9</th>\n",
       "      <td>Sex_male</td>\n",
       "      <td>0.154965</td>\n",
       "    </tr>\n",
       "    <tr>\n",
       "      <th>4</th>\n",
       "      <td>Title_Mr</td>\n",
       "      <td>0.120504</td>\n",
       "    </tr>\n",
       "    <tr>\n",
       "      <th>8</th>\n",
       "      <td>Pclass_3</td>\n",
       "      <td>0.061943</td>\n",
       "    </tr>\n",
       "    <tr>\n",
       "      <th>1</th>\n",
       "      <td>SibSp</td>\n",
       "      <td>0.052114</td>\n",
       "    </tr>\n",
       "    <tr>\n",
       "      <th>2</th>\n",
       "      <td>Parch</td>\n",
       "      <td>0.035817</td>\n",
       "    </tr>\n",
       "    <tr>\n",
       "      <th>5</th>\n",
       "      <td>Title_Mrs</td>\n",
       "      <td>0.034133</td>\n",
       "    </tr>\n",
       "    <tr>\n",
       "      <th>11</th>\n",
       "      <td>Embarked_S</td>\n",
       "      <td>0.025656</td>\n",
       "    </tr>\n",
       "    <tr>\n",
       "      <th>7</th>\n",
       "      <td>Pclass_2</td>\n",
       "      <td>0.018061</td>\n",
       "    </tr>\n",
       "    <tr>\n",
       "      <th>10</th>\n",
       "      <td>Embarked_Q</td>\n",
       "      <td>0.010498</td>\n",
       "    </tr>\n",
       "    <tr>\n",
       "      <th>6</th>\n",
       "      <td>Title_Others</td>\n",
       "      <td>0.009821</td>\n",
       "    </tr>\n",
       "  </tbody>\n",
       "</table>\n",
       "</div>"
      ],
      "text/plain": [
       "         Feature  Importance\n",
       "3           Fare    0.256482\n",
       "0            Age    0.220006\n",
       "9       Sex_male    0.154965\n",
       "4       Title_Mr    0.120504\n",
       "8       Pclass_3    0.061943\n",
       "1          SibSp    0.052114\n",
       "2          Parch    0.035817\n",
       "5      Title_Mrs    0.034133\n",
       "11    Embarked_S    0.025656\n",
       "7       Pclass_2    0.018061\n",
       "10    Embarked_Q    0.010498\n",
       "6   Title_Others    0.009821"
      ]
     },
     "execution_count": 24,
     "metadata": {},
     "output_type": "execute_result"
    }
   ],
   "source": [
    "# 특성 중요도를 내림차순으로 정렬\n",
    "feature_importances = feature_importances.sort_values('Importance', ascending=False)\n",
    "feature_importances"
   ]
  },
  {
   "attachments": {},
   "cell_type": "markdown",
   "id": "92d90407",
   "metadata": {},
   "source": [
    "#### 2️⃣ 특성 중요도 차트로 표현하기"
   ]
  },
  {
   "cell_type": "code",
   "execution_count": 25,
   "id": "c3025832",
   "metadata": {
    "scrolled": false
   },
   "outputs": [
    {
     "data": {
      "image/png": "[encoded data removed]",
      "text/plain": [
       "<Figure size 1000x600 with 1 Axes>"
      ]
     },
     "metadata": {},
     "output_type": "display_data"
    }
   ],
   "source": [
    "# 차트 그리기\n",
    "plt.figure(figsize=(10, 6))\n",
    "sns.barplot(x='Importance', y='Feature', data=feature_importances)\n",
    "plt.xlabel('Importance')\n",
    "plt.ylabel('Features')\n",
    "plt.title('Feature Importance')\n",
    "plt.show()"
   ]
  },
  {
   "attachments": {},
   "cell_type": "markdown",
   "id": "d91a27b1",
   "metadata": {},
   "source": [
    "#### 3️⃣ 특성 중요도가 낮은 Feature 제거 후 재 모델링\n",
    "가 변수화 Feature('Title', 'Pclass', 'Embarked')를 제외한 변수 중 중요도가 낮은 'Parch': 부모와 자녀 수 제거 후 재 모델링"
   ]
  },
  {
   "cell_type": "code",
   "execution_count": 26,
   "id": "9731443a",
   "metadata": {},
   "outputs": [],
   "source": [
    "# Feature는 x, Target은 y 로 저장합니다.\n",
    "x = df.drop(columns=['Survived', 'Parch'])\n",
    "y = df['Survived']\n",
    "\n",
    "from sklearn.model_selection import train_test_split\n",
    "\n",
    "# Feature와 Target을 train, test 데이터 셋으로 나누기\n",
    "x_train, x_test, y_train, y_test = train_test_split(x, y, test_size=0.2, random_state=42)\n"
   ]
  },
  {
   "cell_type": "code",
   "execution_count": 27,
   "id": "c01afe9e",
   "metadata": {
    "scrolled": true
   },
   "outputs": [
    {
     "name": "stdout",
     "output_type": "stream",
     "text": [
      "[classification_report]\n",
      "              precision    recall  f1-score   support\n",
      "\n",
      "         0.0       0.88      0.87      0.87       105\n",
      "         1.0       0.81      0.82      0.82        74\n",
      "\n",
      "    accuracy                           0.85       179\n",
      "   macro avg       0.84      0.85      0.84       179\n",
      "weighted avg       0.85      0.85      0.85       179\n",
      "\n"
     ]
    }
   ],
   "source": [
    "# 모델 생성\n",
    "model_rf3 = RandomForestClassifier(random_state=42, oob_score=True)\n",
    "\n",
    "# 모델 학습\n",
    "model_rf3.fit(x_train, y_train)\n",
    "\n",
    "# 모델 예측 \n",
    "y_pred = model_rf3.predict(x_test)\n",
    "\n",
    "# 모델 평가\n",
    "print(\"[classification_report]\")\n",
    "print(classification_report(y_test, y_pred))"
   ]
  },
  {
   "attachments": {},
   "cell_type": "markdown",
   "id": "2a54c657",
   "metadata": {},
   "source": [
    "---"
   ]
  }
 ],
 "metadata": {
  "kernelspec": {
   "display_name": "Python 3 (ipykernel)",
   "language": "python",
   "name": "python3"
  },
  "language_info": {
   "codemirror_mode": {
    "name": "ipython",
    "version": 3
   },
   "file_extension": ".py",
   "mimetype": "text/x-python",
   "name": "python",
   "nbconvert_exporter": "python",
   "pygments_lexer": "ipython3",
   "version": "3.11.2"
  }
 },
 "nbformat": 4,
 "nbformat_minor": 5
}
