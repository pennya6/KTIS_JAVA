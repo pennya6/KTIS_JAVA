{
 "cells": [
  {
   "attachments": {},
   "cell_type": "markdown",
   "id": "85871010",
   "metadata": {},
   "source": [
    "## 머신러닝 응용\n",
    "\n",
    "## 05-07. 앙상블 모델 - Boosting"
   ]
  },
  {
   "attachments": {},
   "cell_type": "markdown",
   "id": "4dbe8d19",
   "metadata": {},
   "source": [
    "<img src = \"https://images.unsplash.com/photo-1502101872923-d48509bff386?ixlib=rb-4.0.3&ixid=M3wxMjA3fDB8MHxwaG90by1wYWdlfHx8fGVufDB8fHx8fA%3D%3D&auto=format&fit=crop&w=1932&q=80\" width=80% align=\"center\"/>\n",
    "\n",
    "<div align=\"right\">사진: <a href=\"https://unsplash.com/ko/%EC%82%AC%EC%A7%84/bJhT_8nbUA0?utm_source=unsplash&utm_medium=referral&utm_content=creditCopyText\">Unsplash</a>의<a href=\"https://unsplash.com/@tateisimikito?utm_source=unsplash&utm_medium=referral&utm_content=creditCopyText\">Jukan Tateisi</a>\n",
    "</div>"
   ]
  },
  {
   "attachments": {},
   "cell_type": "markdown",
   "id": "56c18af6",
   "metadata": {},
   "source": [
    "### 0. 데이터 준비하기\n",
    "- **데이터 설명**<br>\n",
    "타이타닉 데이터셋은 1912년에 발생한 타이타닉호의 침몰 사고와 관련된 정보를 담고 있는 데이터셋입니다. 이 데이터셋은 Kaggle에서 제공하며 기계 학습과 데이터 분석을 위해 널리 사용되는 예제 데이터셋 중 하나로, 생존자 예측과 관련된 문제에 대한 연구 및 분석을 수행하는 데 자주 활용됩니다. <br><br>\n",
    "이번 실습에서는 해당 데이터셋의 전처리 작업(결측치 처리, 가변수화, 정규화 등)을 완료한 데이터 파일('titanic_preprocessing.csv')을 활용할 예정이며, 각 컬럼은 다음과 같은 내용을 포함하고 있습니다. \n",
    "\n",
    "| 컬럼명         | 설명                                      |\n",
    "|----------------|--------------------------------------------|\n",
    "| Survived       | 생존 여부 (1: 생존, 0: 사망)               |\n",
    "| Age            | 나이                                       |\n",
    "| SibSp          | 함께 탑승한 형제자매 또는 배우자의 수       |\n",
    "| Parch          | 함께 탑승한 부모 또는 자녀의 수             |\n",
    "| Fare           | 운임 요금                                  |\n",
    "| Title_Mr       | Mr. 호칭을 갖는 탑승객 여부 (1: 해당, 0: 해당X) |\n",
    "| Title_Mrs      | Mrs. 호칭을 갖는 탑승객 여부 (1: 해당, 0: 해당X)|\n",
    "| Title_Others   | Mr., Mrs. Miss 이외의 호칭을 갖는 탑승객 여부  |\n",
    "| Pclass_2       | 2등석 여부 (1: 해당, 0: 해당X)              |\n",
    "| Pclass_3       | 3등석 여부 (1: 해당, 0: 해당X)              |\n",
    "| Sex_male       | 성별이 남성인지 여부 (1: 남성, 0: 여성)     |\n",
    "| Embarked_Q     | 탑승지가 Queenstown인지 여부 (1: 해당, 0: 해당X)|\n",
    "| Embarked_S     | 탑승지가 Southampton인지 여부 (1: 해당, 0: 해당X)|\n"
   ]
  },
  {
   "attachments": {},
   "cell_type": "markdown",
   "id": "f184fa36",
   "metadata": {},
   "source": [
    "#### 1️⃣ 데이터 불러오기"
   ]
  },
  {
   "cell_type": "code",
   "execution_count": null,
   "id": "5ce3ec65",
   "metadata": {},
   "outputs": [],
   "source": [
    "# 라이브러리 불러오기\n",
    "import pandas as pd\n",
    "import matplotlib.pyplot as plt\n",
    "\n",
    "import warnings\n",
    "warnings.filterwarnings(action='ignore')"
   ]
  },
  {
   "cell_type": "code",
   "execution_count": null,
   "id": "13820254",
   "metadata": {},
   "outputs": [],
   "source": [
    "# 데이터 읽어오기\n",
    "df = pd.read_csv(\"./data/titanic_preprocessing.csv\")"
   ]
  },
  {
   "cell_type": "code",
   "execution_count": null,
   "id": "d37100b4",
   "metadata": {
    "scrolled": false
   },
   "outputs": [],
   "source": [
    "# 샘플 데이터 확인하기\n",
    "df.head()"
   ]
  },
  {
   "attachments": {},
   "cell_type": "markdown",
   "id": "2e6db3fa",
   "metadata": {},
   "source": [
    "#### 2️⃣ 데이터 분리하기"
   ]
  },
  {
   "cell_type": "code",
   "execution_count": null,
   "id": "c67f8d4a",
   "metadata": {},
   "outputs": [],
   "source": [
    "# Feature는 x, Target은 y 로 저장합니다.\n",
    "x = df.drop(columns=['Survived'])\n",
    "y = df['Survived']"
   ]
  },
  {
   "cell_type": "code",
   "execution_count": null,
   "id": "853746bb",
   "metadata": {},
   "outputs": [],
   "source": [
    "# sklearn 패키키 증 train_test_split 함수 불러오기\n",
    "from sklearn.model_selection import train_test_split\n",
    "\n",
    "# Feature와 Target을 train, test 데이터 셋으로 나누기\n",
    "x_train, x_test, y_train, y_test = train_test_split(x, y, test_size=0.2, random_state=42)\n"
   ]
  },
  {
   "attachments": {},
   "cell_type": "markdown",
   "id": "c942802e",
   "metadata": {},
   "source": [
    "---"
   ]
  },
  {
   "attachments": {},
   "cell_type": "markdown",
   "id": "c2b638df",
   "metadata": {},
   "source": [
    "### 1. Gradient Boosting 모델"
   ]
  },
  {
   "attachments": {},
   "cell_type": "markdown",
   "id": "81dfa245",
   "metadata": {},
   "source": [
    "#### 1️⃣ 라이브러리 호출하기"
   ]
  },
  {
   "cell_type": "code",
   "execution_count": null,
   "id": "31fbe961",
   "metadata": {},
   "outputs": [],
   "source": [
    "from sklearn.ensemble import GradientBoostingClassifier\n",
    "from sklearn.metrics import classification_report"
   ]
  },
  {
   "attachments": {},
   "cell_type": "markdown",
   "id": "05aa3e54",
   "metadata": {},
   "source": [
    "#### 2️⃣ 선언하기 \n",
    "GradientBoostingClassifier 클래스 객체 생성하기<br><br>"
   ]
  },
  {
   "cell_type": "code",
   "execution_count": null,
   "id": "5b896561",
   "metadata": {},
   "outputs": [],
   "source": [
    "# 모델 생성\n",
    "model_gb = GradientBoostingClassifier(random_state=42)"
   ]
  },
  {
   "attachments": {},
   "cell_type": "markdown",
   "id": "c5ab4043",
   "metadata": {},
   "source": [
    "#### 3️⃣ 학습하기\n",
    "fit 메서드로 가중치 값을 추정한다."
   ]
  },
  {
   "cell_type": "code",
   "execution_count": null,
   "id": "c82bec4b",
   "metadata": {
    "scrolled": false
   },
   "outputs": [],
   "source": [
    "model_gb.fit(x_train, y_train)"
   ]
  },
  {
   "attachments": {},
   "cell_type": "markdown",
   "id": "581e74e7",
   "metadata": {},
   "source": [
    "#### 4️⃣ 예측하기\n",
    "predict 메서드로 새로운 입력 데이터에 대한 출력 데이터 예측\n",
    "\n"
   ]
  },
  {
   "cell_type": "code",
   "execution_count": null,
   "id": "fe37713f",
   "metadata": {},
   "outputs": [],
   "source": [
    "y_pred = model_gb.predict(x_test)"
   ]
  },
  {
   "attachments": {},
   "cell_type": "markdown",
   "id": "0383281b",
   "metadata": {},
   "source": [
    "#### 5️⃣ 평가하기"
   ]
  },
  {
   "cell_type": "code",
   "execution_count": null,
   "id": "a887cadc",
   "metadata": {
    "scrolled": true
   },
   "outputs": [],
   "source": [
    "print(\"[classification_report]\")\n",
    "print(classification_report(y_test, y_pred))"
   ]
  },
  {
   "attachments": {},
   "cell_type": "markdown",
   "id": "2703c7b0",
   "metadata": {},
   "source": [
    "#### 6️⃣ 파라미터 조정하기\n",
    "> - learning_rate : 학습률<br>\n",
    "> 학습률이 작을수록 과적합의 위험을 줄여주고, 모델의 안정성을 높일 수 있으나, 너무 작은 학습률은 학습에 많은 시간이 소요됩니다.\n",
    "> - n_estimators : 의사 결정 트리의 개수<br> \n",
    "> 일반적으로 더 많은 트리를 사용할수록 모델의 성능이 향상되지만, 학습 속도는 느려집니다. 이 값을 적절히 조정하여 과적합과 학습 시간 사이의 균형을 맞추어야 합니다.<br>"
   ]
  },
  {
   "cell_type": "code",
   "execution_count": null,
   "id": "50338f6c",
   "metadata": {
    "scrolled": true
   },
   "outputs": [],
   "source": [
    "# 모델 선언\n",
    "model_gb2 = GradientBoostingClassifier(random_state=42, learning_rate=0.01, n_estimators=3000)\n",
    "\n",
    "# 모델 학습\n",
    "model_gb2.fit(x_train, y_train)\n",
    "\n",
    "# 모델 예측\n",
    "y_pred = model_gb2.predict(x_test)\n",
    "\n",
    "# 모델 평가 \n",
    "print(\"[classification_report]\")\n",
    "print(classification_report(y_test, y_pred))"
   ]
  },
  {
   "attachments": {},
   "cell_type": "markdown",
   "id": "bd12bc37",
   "metadata": {},
   "source": [
    "---"
   ]
  },
  {
   "attachments": {},
   "cell_type": "markdown",
   "id": "15b7f70e",
   "metadata": {},
   "source": [
    "### 2. XGBoost"
   ]
  },
  {
   "attachments": {},
   "cell_type": "markdown",
   "id": "5a8538a4",
   "metadata": {},
   "source": [
    "#### 1️⃣ 라이브러리 호출하기"
   ]
  },
  {
   "attachments": {},
   "cell_type": "markdown",
   "id": "374deb9e",
   "metadata": {},
   "source": [
    "__사내 PC 실습 안내__ \n",
    "- 본 실습은 외부 라이브러리를 설치하는 내용이 포함되어 있습니다.\n",
    "- 사내 PC에서 외부 라이브러리 설치 시, SSL 인증 오류가 발생할 수 있습니다.\n",
    "- 아래 코드와 같이, pypi 서버 신뢰 옵션을 추가하여 SSL 인증을 생략합니다.\n",
    "- 따라서, 내용은 영상 강의와 다를 수 있습니다.\n",
    "\n",
    "```cmd\n",
    "pip install --trusted-host pypi.python.org --trusted-host files.pythonhosted.org --trusted-host pypi.org -U [설치할 패키지 명]\n",
    "```"
   ]
  },
  {
   "cell_type": "code",
   "execution_count": null,
   "id": "05173079",
   "metadata": {},
   "outputs": [],
   "source": [
    "# !pip install xgboost \n",
    "!pip install --trusted-host pypi.python.org --trusted-host files.pythonhosted.org --trusted-host pypi.org -U xgboost"
   ]
  },
  {
   "cell_type": "code",
   "execution_count": null,
   "id": "0579b6c5",
   "metadata": {},
   "outputs": [],
   "source": [
    "import xgboost as xgb\n",
    "from xgboost import XGBClassifier\n",
    "from sklearn.metrics import classification_report"
   ]
  },
  {
   "attachments": {},
   "cell_type": "markdown",
   "id": "abed548f",
   "metadata": {},
   "source": [
    "#### 2️⃣ 선언하기\n",
    "XGBClassifier 클래스 객체 생성하기<br>"
   ]
  },
  {
   "cell_type": "code",
   "execution_count": null,
   "id": "b08fd3d3",
   "metadata": {},
   "outputs": [],
   "source": [
    "model_xgb = XGBClassifier(random_state=42)"
   ]
  },
  {
   "attachments": {},
   "cell_type": "markdown",
   "id": "72cc49d8",
   "metadata": {},
   "source": [
    "#### 3️⃣ 학습하기"
   ]
  },
  {
   "cell_type": "code",
   "execution_count": null,
   "id": "23d79311",
   "metadata": {},
   "outputs": [],
   "source": [
    "# 모델 학습 코드\n",
    "model_xgb.fit(x_train, y_train)"
   ]
  },
  {
   "attachments": {},
   "cell_type": "markdown",
   "id": "4a69e3e8",
   "metadata": {},
   "source": [
    "#### 4️⃣ 예측하기"
   ]
  },
  {
   "cell_type": "code",
   "execution_count": null,
   "id": "47d2a79d",
   "metadata": {},
   "outputs": [],
   "source": [
    "y_pred = model_xgb.predict(x_test)"
   ]
  },
  {
   "attachments": {},
   "cell_type": "markdown",
   "id": "045ccd93",
   "metadata": {},
   "source": [
    "#### 5️⃣ 평가하기"
   ]
  },
  {
   "cell_type": "code",
   "execution_count": null,
   "id": "c9635474",
   "metadata": {
    "scrolled": true
   },
   "outputs": [],
   "source": [
    "print(\"[classification_report]\")\n",
    "print(classification_report(y_test, y_pred))"
   ]
  },
  {
   "attachments": {},
   "cell_type": "markdown",
   "id": "e0ba27dc",
   "metadata": {},
   "source": [
    "#### 6️⃣ 파라미터 조정하기\n",
    "\n",
    "**📌 <font color='red'>주의사항</font>**<br>\n",
    "XGBoost는 사이킷런 레퍼(Scikit-learn Wrapper)와 파이썬 레퍼(Python Wrapper) 두 가지 인터페이스를 제공합니다.\n",
    "\n",
    "| 파이썬 래퍼 (Python Wrapper) | 사이킷런 래퍼 (Scikit-learn Wrapper) | 설명                                                    |\n",
    "|:-------------------------|:-----------------------------------|:--------------------------------------------------------|\n",
    "| eta (0.3)                | learning_rate (0.1)                | 학습 단계별로 가중치를 얼마나 사용할 것인지 결정합니다. 값이 작을수록 다음 단계의 결과물에 적게 반영됩니다. (일반적으로 0.01~0.2 사이에서 결정) |\n",
    "| num_boost_around (10)    | n_estimators (100)                 | 생성할 트리의 개수, 값이 커지면 모델 복잡도가 증가하고 더 정확한 예측 가능하나, 과적합의 가능성도 함께 증가                       |\n",
    "| min_child_weight (1)     | min_child_weight (1)               | 관측치에 대한 가중치 합의 최소값으로 과적합을 조절하는 용도입니다.               |\n",
    "| gamma (0)                | min_split_loss (0)                 | 리프 노드의 추가 분할을 결정할 최소 손실 감소값입니다. 값이 클수록 과적합을 감소시킵니다.          |\n",
    "| max_depth (6)            | max_depth (3)                      | 트리의 깊이를 제한합니다.                                  |\n",
    "| sub_sample (1)           | subsample (1)                      | 데이터 샘플링 비율을 지정합니다. 일반적으로 0.5~1 사이의 값을 사용합니다.            |\n",
    "| colsample_bytree (1)     | colsample_bytree (1)               | 각 트리마다 피쳐 샘플링 비율을 지정합니다. 일반적으로 0.5~1 사이의 값을 사용합니다.        |\n",
    "| lambda (1)               | reg_lambda (1)                     | L2 규제(릿지) 가중치를 설정합니다. 값이 클수록 과적합을 감소시킵니다.           |\n",
    "| alpha (0)                | reg_alpha (0)                      | L1 규제(라쏘) 가중치를 설정합니다. 값이 클수록 과적합을 감소시킵니다.               |\n",
    "| scale_pos_weight (1)     | scale_pos_weight (1)               | 불균형 데이터셋에서 양성 클래스의 균형을 유지하기 위해 사용됩니다.                  |\n",
    "\n",
    "일반적으로 사이킷런 레퍼를 사용하는 것이 사용 편의성과 사이킷런 생태계와의 통합성 측면에서 더 유리합니다. 하지만 특정한 경우에는 파이썬 레퍼를 사용하여 XGBoost의 고급 기능을 활용할 수 있습니다. 선택은 사용자의 요구사항과 상황에 따라 달라집니다."
   ]
  },
  {
   "cell_type": "code",
   "execution_count": null,
   "id": "8116fffe",
   "metadata": {},
   "outputs": [],
   "source": [
    "# 모델 선언\n",
    "model_xgb2 = XGBClassifier(random_state=42, learning_rate=0.01, n_estimators=3000, reg_lambda=10)\n",
    "\n",
    "# 모델 학습\n",
    "model_xgb2.fit(x_train, y_train)\n",
    "\n",
    "# 모델 예측\n",
    "y_pred = model_xgb2.predict(x_test)\n",
    "\n",
    "# 모델 평가 \n",
    "print(\"[classification_report]\")\n",
    "print(classification_report(y_test, y_pred))"
   ]
  },
  {
   "attachments": {},
   "cell_type": "markdown",
   "id": "a1fe3acb",
   "metadata": {},
   "source": [
    "---"
   ]
  },
  {
   "attachments": {},
   "cell_type": "markdown",
   "id": "a84abbdb",
   "metadata": {},
   "source": [
    "### 3. Feature Importance"
   ]
  },
  {
   "attachments": {},
   "cell_type": "markdown",
   "id": "162a6222",
   "metadata": {},
   "source": [
    "#### 1️⃣ 특성 중요도 추출하여 데이터 프레임 만들기"
   ]
  },
  {
   "cell_type": "code",
   "execution_count": null,
   "id": "7b9018a6",
   "metadata": {
    "scrolled": true
   },
   "outputs": [],
   "source": [
    "import matplotlib.pyplot as plt\n",
    "import seaborn as sns\n",
    "\n",
    "# Random Forest 모델 특성 중요도 추출\n",
    "importances = model_xgb2.feature_importances_\n",
    "\n",
    "# 특성 중요도를 데이터프레임으로 변환\n",
    "feature_importances = pd.DataFrame({'Feature': x.columns, \n",
    "                                    'Importance': importances})\n",
    "\n",
    "# 특성 중요도를 내림차순으로 정렬\n",
    "feature_importances = feature_importances.sort_values('Importance', ascending=False)"
   ]
  },
  {
   "attachments": {},
   "cell_type": "markdown",
   "id": "92d90407",
   "metadata": {},
   "source": [
    "#### 2️⃣ 특성 중요도 차트로 표현하지"
   ]
  },
  {
   "cell_type": "code",
   "execution_count": null,
   "id": "c3025832",
   "metadata": {
    "scrolled": false
   },
   "outputs": [],
   "source": [
    "# 차트 그리기\n",
    "plt.figure(figsize=(10, 6))\n",
    "sns.barplot(x='Importance', y='Feature', data=feature_importances)\n",
    "plt.xlabel('Importance')\n",
    "plt.ylabel('Features')\n",
    "plt.title('Feature Importance')\n",
    "plt.show()"
   ]
  },
  {
   "attachments": {},
   "cell_type": "markdown",
   "id": "2a54c657",
   "metadata": {},
   "source": [
    "---"
   ]
  }
 ],
 "metadata": {
  "kernelspec": {
   "display_name": "Python 3 (ipykernel)",
   "language": "python",
   "name": "python3"
  },
  "language_info": {
   "codemirror_mode": {
    "name": "ipython",
    "version": 3
   },
   "file_extension": ".py",
   "mimetype": "text/x-python",
   "name": "python",
   "nbconvert_exporter": "python",
   "pygments_lexer": "ipython3",
   "version": "3.10.9"
  }
 },
 "nbformat": 4,
 "nbformat_minor": 5
}
