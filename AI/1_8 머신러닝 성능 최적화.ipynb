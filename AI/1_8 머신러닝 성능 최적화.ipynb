{
 "cells": [
  {
   "cell_type": "markdown",
   "metadata": {
    "collapsed": true,
    "id": "lFxDgK36aXJe"
   },
   "source": [
    "# [Hyperparameter Optimization (HPO) of Machine Learning Models](https://github.com/LiYangHart/Hyperparameter-Optimization-of-Machine-Learning-Algorithms)\n",
    "L. Yang and A. Shami, “On hyperparameter optimization of machine learning algorithms: Theory and practice,” Neurocomputing, vol. 415, pp. 295–316, 2020, doi: https://doi.org/10.1016/j.neucom.2020.07.061.\n",
    "\n",
    "### **회귀 문제를 위한 예제 코드**\n",
    "**Dataset used:**\n",
    "&nbsp; California Housing dataset from kaggle\n",
    "\n",
    "**Machine learning algorithms used:**\n",
    "&nbsp; Random forest (RF), support vector machine (SVM), k-nearest neighbor (KNN), artificial neural network (ANN)\n",
    "\n",
    "**HPO algorithms used:**\n",
    "&nbsp; Grid search, random search, Successive Halving, Bayesian Optimization with Gaussian Processes (BO-GP)\n",
    "\n",
    "**Performance metric:**\n",
    "&nbsp; Mean square error (MSE)"
   ]
  },
  {
   "cell_type": "markdown",
   "metadata": {},
   "source": [
    "__사내 PC 실습 안내__ \n",
    "- 본 실습은 외부 라이브러리를 설치하는 내용이 포함되어 있습니다.\n",
    "- 사내 PC에서 외부 라이브러리 설치 시, SSL 인증 오류가 발생할 수 있습니다.\n",
    "- 아래 코드와 같이, pypi 서버 신뢰 옵션을 추가하여 SSL 인증을 생략합니다.\n",
    "- 따라서, 내용은 영상 강의와 다를 수 있습니다.\n",
    "\n",
    "```cmd\n",
    "pip install --trusted-host pypi.python.org --trusted-host files.pythonhosted.org --trusted-host pypi.org -U [설치할 패키지 명]\n",
    "```\n"
   ]
  },
  {
   "cell_type": "code",
   "execution_count": null,
   "metadata": {
    "colab": {
     "base_uri": "https://localhost:8080/"
    },
    "executionInfo": {
     "elapsed": 75370,
     "status": "ok",
     "timestamp": 1686721118970,
     "user": {
      "displayName": "Byungkyu Ji",
      "userId": "07239397859272093769"
     },
     "user_tz": -540
    },
    "id": "uE6x14WTLHvx",
    "outputId": "b2733f7e-3771-4f51-94b9-456b242315bf"
   },
   "outputs": [],
   "source": [
    "# !pip install scikit-optimize mljar-supervised pycaret\n",
    "!pip uninstall pandas numpy -y\n",
    "!pip install --trusted-host pypi.python.org --trusted-host files.pythonhosted.org --trusted-host pypi.org -U pycaret scikit-optimize mljar-supervised"
   ]
  },
  {
   "cell_type": "markdown",
   "metadata": {},
   "source": [
    "__사내 PC 실습 안내__ \n",
    "- 본 실습은 외부 데이터를 로드하는 내용이 포함되어 있습니다.\n",
    "- 사내 PC에서 외부 데이터 로드 시, SSL 인증 오류가 발생할 수 있습니다.\n",
    "- 아래 코드를 추가하여, SSL 인증을 생략합니다.\n",
    "- 따라서, 내용은 영상 강의와 다를 수 있습니다.\n",
    "\n",
    "```cmd\n",
    "import ssl\n",
    "ssl._create_default_https_context = ssl._create_unverified_context\n",
    "```"
   ]
  },
  {
   "cell_type": "code",
   "execution_count": null,
   "metadata": {
    "executionInfo": {
     "elapsed": 2992,
     "status": "ok",
     "timestamp": 1686721121959,
     "user": {
      "displayName": "Byungkyu Ji",
      "userId": "07239397859272093769"
     },
     "user_tz": -540
    },
    "id": "bHbPFkWHaXJk"
   },
   "outputs": [],
   "source": [
    "import numpy as np\n",
    "import pandas as pd\n",
    "import seaborn as sns\n",
    "import matplotlib.pyplot as plt\n",
    "from sklearn.model_selection import train_test_split,cross_val_score\n",
    "from sklearn.ensemble import RandomForestClassifier,RandomForestRegressor\n",
    "from sklearn.metrics import classification_report,confusion_matrix,accuracy_score\n",
    "from sklearn.neighbors import KNeighborsClassifier,KNeighborsRegressor\n",
    "from sklearn.svm import SVC,SVR\n",
    "from sklearn.preprocessing import OneHotEncoder\n",
    "from sklearn import datasets\n",
    "import scipy.stats as stats\n",
    "\n",
    "import ssl\n",
    "ssl._create_default_https_context = ssl._create_unverified_context"
   ]
  },
  {
   "cell_type": "markdown",
   "metadata": {
    "id": "3woX33b9aXJm"
   },
   "source": [
    "## California Housing dataset 불러오기\n",
    "실습은 블록 단위로 기록되어있는 California Housing dataset을 활용하여 진행합니다.\n",
    "\n",
    "20640 개의 row와 10 개의 column이 있으며 데이터를 활용하여 집 값을 예측하는 것이 목표입니다.\n"
   ]
  },
  {
   "cell_type": "code",
   "execution_count": null,
   "metadata": {
    "colab": {
     "base_uri": "https://localhost:8080/"
    },
    "executionInfo": {
     "elapsed": 634,
     "status": "ok",
     "timestamp": 1686721122591,
     "user": {
      "displayName": "Byungkyu Ji",
      "userId": "07239397859272093769"
     },
     "user_tz": -540
    },
    "id": "Nx9E4bMkEziO",
    "outputId": "e7f64c11-8eed-4abf-f6b4-1b3568c428b0"
   },
   "outputs": [],
   "source": [
    "raw = pd.read_csv(\"https://raw.githubusercontent.com/JiByungKyu/dataset/main/california_housing/housing.csv\")\n",
    "raw= raw.sample(n=1000,ignore_index=True,random_state=42)\n",
    "raw.info()"
   ]
  },
  {
   "cell_type": "markdown",
   "metadata": {
    "id": "wynqK8TuH-pZ"
   },
   "source": [
    "### 데이터 전처리"
   ]
  },
  {
   "cell_type": "code",
   "execution_count": null,
   "metadata": {
    "executionInfo": {
     "elapsed": 3,
     "status": "ok",
     "timestamp": 1686721122591,
     "user": {
      "displayName": "Byungkyu Ji",
      "userId": "07239397859272093769"
     },
     "user_tz": -540
    },
    "id": "8uCt127-xlyN"
   },
   "outputs": [],
   "source": [
    "raw['median_house_value']/=1000\n",
    "enc = OneHotEncoder(handle_unknown='ignore',sparse_output=False)\n",
    "not_number_df = pd.DataFrame(enc.fit_transform(raw.select_dtypes(exclude='number')), columns=list(*enc.categories_))\n",
    "df = pd.concat([raw.select_dtypes(include='number'),not_number_df],axis=1,)"
   ]
  },
  {
   "cell_type": "code",
   "execution_count": null,
   "metadata": {
    "colab": {
     "base_uri": "https://localhost:8080/"
    },
    "executionInfo": {
     "elapsed": 3,
     "status": "ok",
     "timestamp": 1686721122591,
     "user": {
      "displayName": "Byungkyu Ji",
      "userId": "07239397859272093769"
     },
     "user_tz": -540
    },
    "id": "9gXqBviXoeOT",
    "outputId": "9153271e-c791-4b0b-b6a1-34e9d2f28b3c"
   },
   "outputs": [],
   "source": [
    "from sklearn.impute import KNNImputer\n",
    "imputer = KNNImputer(n_neighbors=10)\n",
    "df = pd.DataFrame(imputer.fit_transform(df),columns = df.columns)\n",
    "df.info()"
   ]
  },
  {
   "cell_type": "code",
   "execution_count": null,
   "metadata": {
    "executionInfo": {
     "elapsed": 3,
     "status": "ok",
     "timestamp": 1686721122592,
     "user": {
      "displayName": "Byungkyu Ji",
      "userId": "07239397859272093769"
     },
     "user_tz": -540
    },
    "id": "PZORa0i6E3L3"
   },
   "outputs": [],
   "source": [
    "X,y = df[list(set(df.columns) - set(['median_house_value']))], df['median_house_value']"
   ]
  },
  {
   "cell_type": "markdown",
   "metadata": {
    "id": "8CAx426xaXJo"
   },
   "source": [
    "## Baseline Machine Learning Models: Regressors with Default Hyperparameters"
   ]
  },
  {
   "cell_type": "markdown",
   "metadata": {
    "id": "ieQm1WnoaXJp"
   },
   "source": [
    "### Manual Search Using 3-Fold Cross-Validation"
   ]
  },
  {
   "cell_type": "code",
   "execution_count": null,
   "metadata": {
    "colab": {
     "base_uri": "https://localhost:8080/"
    },
    "executionInfo": {
     "elapsed": 20264,
     "status": "ok",
     "timestamp": 1686712171282,
     "user": {
      "displayName": "Byungkyu Ji",
      "userId": "07239397859272093769"
     },
     "user_tz": -540
    },
    "id": "vcOiQbnxaXJp",
    "outputId": "321f7683-6bee-4aaf-f0e4-e9f199cb2395"
   },
   "outputs": [],
   "source": [
    "%%time\n",
    "#Random Forest\n",
    "n_estimators = 1000\n",
    "clf = RandomForestRegressor(n_estimators=n_estimators)\n",
    "scores = cross_val_score(clf, X, y, cv=3,scoring='neg_mean_squared_error') # 3-fold cross-validation\n",
    "print(\"MSE:\"+ str(-scores.mean()))"
   ]
  },
  {
   "cell_type": "code",
   "execution_count": null,
   "metadata": {
    "colab": {
     "base_uri": "https://localhost:8080/"
    },
    "executionInfo": {
     "elapsed": 244,
     "status": "ok",
     "timestamp": 1686711371388,
     "user": {
      "displayName": "Byungkyu Ji",
      "userId": "07239397859272093769"
     },
     "user_tz": -540
    },
    "id": "EA0y2AhRaXJq",
    "outputId": "6313a73f-18bd-4d6d-b3b9-43bb1b08b381"
   },
   "outputs": [],
   "source": [
    "%%time\n",
    "#SVM\n",
    "C=5.0\n",
    "kernel='rbf'\n",
    "clf = SVR(C=C,kernel=kernel)\n",
    "scores = cross_val_score(clf, X, y, cv=3,scoring='neg_mean_squared_error')\n",
    "print(\"MSE:\"+ str(-scores.mean()))"
   ]
  },
  {
   "cell_type": "code",
   "execution_count": null,
   "metadata": {
    "colab": {
     "base_uri": "https://localhost:8080/"
    },
    "executionInfo": {
     "elapsed": 260,
     "status": "ok",
     "timestamp": 1686711396632,
     "user": {
      "displayName": "Byungkyu Ji",
      "userId": "07239397859272093769"
     },
     "user_tz": -540
    },
    "id": "WnMR-mNJaXJq",
    "outputId": "e84f857a-e3d3-43c0-8787-5f4728fa792a"
   },
   "outputs": [],
   "source": [
    "%%time\n",
    "#KNN\n",
    "n_neighbors=5\n",
    "clf = KNeighborsRegressor(n_neighbors=n_neighbors)\n",
    "scores = cross_val_score(clf, X, y, cv=3,scoring='neg_mean_squared_error')\n",
    "print(\"MSE:\"+ str(-scores.mean()))"
   ]
  },
  {
   "cell_type": "code",
   "execution_count": null,
   "metadata": {
    "colab": {
     "base_uri": "https://localhost:8080/"
    },
    "executionInfo": {
     "elapsed": 4874,
     "status": "ok",
     "timestamp": 1686721127463,
     "user": {
      "displayName": "Byungkyu Ji",
      "userId": "07239397859272093769"
     },
     "user_tz": -540
    },
    "id": "2_8vuS-3aXJr",
    "outputId": "5ee39d68-0a8d-48d1-8510-c8cfd9974885"
   },
   "outputs": [],
   "source": [
    "%%time\n",
    "#ANN\n",
    "from keras.models import Sequential, Model\n",
    "from keras.layers import Dense, Input\n",
    "from sklearn.model_selection import GridSearchCV\n",
    "from keras.wrappers.scikit_learn import KerasRegressor\n",
    "from keras.callbacks import EarlyStopping\n",
    "def ANN(optimizer = 'adam',neurons=32,batch_size=32,epochs=20,activation='relu',patience=5,loss='mse'):\n",
    "    model = Sequential()\n",
    "    model.add(Dense(neurons, input_shape=(X.shape[1],), activation=activation))\n",
    "    model.add(Dense(neurons, activation=activation))\n",
    "    model.add(Dense(1))\n",
    "    model.compile(optimizer = optimizer, loss=loss)\n",
    "    early_stopping = EarlyStopping(monitor=\"loss\", patience = patience)# early stop patience\n",
    "    history = model.fit(X, y,\n",
    "              batch_size=batch_size,\n",
    "              epochs=epochs,\n",
    "              callbacks = [early_stopping],\n",
    "              verbose=0) #verbose set to 1 will show the training process\n",
    "    return model"
   ]
  },
  {
   "cell_type": "code",
   "execution_count": null,
   "metadata": {
    "colab": {
     "base_uri": "https://localhost:8080/"
    },
    "executionInfo": {
     "elapsed": 11378,
     "status": "ok",
     "timestamp": 1686711454676,
     "user": {
      "displayName": "Byungkyu Ji",
      "userId": "07239397859272093769"
     },
     "user_tz": -540
    },
    "id": "ZbHt54tMaXJr",
    "outputId": "e85ce65c-6802-46c1-aba9-b613dd763685",
    "scrolled": true
   },
   "outputs": [],
   "source": [
    "%%time\n",
    "clf = KerasRegressor(build_fn=ANN,verbose=0)\n",
    "scores = cross_val_score(clf, X, y, cv=3,scoring='neg_mean_squared_error')\n",
    "print(\"MSE:\"+ str(-scores.mean()))"
   ]
  },
  {
   "cell_type": "markdown",
   "metadata": {
    "id": "i3f_O6wkaXJs"
   },
   "source": [
    "## HPO Algorithm 1: Grid Search\n",
    "모든 하이퍼파라미터 설정에 대해 탐색\n",
    "\n",
    "**Advantages:**\n",
    "* 쉬운 구현.\n",
    "\n",
    "**Disadvantages:**\n",
    "* 시간을 많이 소모,\n",
    "* Categorical HPs에만 효율적임."
   ]
  },
  {
   "cell_type": "code",
   "execution_count": null,
   "metadata": {
    "colab": {
     "base_uri": "https://localhost:8080/"
    },
    "executionInfo": {
     "elapsed": 81592,
     "status": "ok",
     "timestamp": 1686712296747,
     "user": {
      "displayName": "Byungkyu Ji",
      "userId": "07239397859272093769"
     },
     "user_tz": -540
    },
    "id": "ElRLNvW7aXJs",
    "outputId": "d9aa3174-6d3c-4d90-a281-fbbe79f04efc"
   },
   "outputs": [],
   "source": [
    "%%time\n",
    "#Random Forest\n",
    "from sklearn.model_selection import GridSearchCV\n",
    "# Define the hyperparameter configuration space\n",
    "rf_params = {\n",
    "    'n_estimators': [10, 20, 30,1000],\n",
    "    #'max_features': ['sqrt',0.5],\n",
    "    'max_depth': [15,20,30,50],\n",
    "    #'min_samples_leaf': [1,2,4,8],\n",
    "    #\"bootstrap\":[True,False],\n",
    "    #\"criterion\":['squared_error','absolute_error']\n",
    "}\n",
    "clf = RandomForestRegressor(random_state=0)\n",
    "grid = GridSearchCV(clf, rf_params, cv=3, scoring='neg_mean_squared_error')\n",
    "grid.fit(X, y)\n",
    "print(grid.best_params_)\n",
    "print(\"MSE:\"+ str(-grid.best_score_))"
   ]
  },
  {
   "cell_type": "code",
   "execution_count": null,
   "metadata": {
    "colab": {
     "base_uri": "https://localhost:8080/"
    },
    "executionInfo": {
     "elapsed": 6107,
     "status": "ok",
     "timestamp": 1686712369033,
     "user": {
      "displayName": "Byungkyu Ji",
      "userId": "07239397859272093769"
     },
     "user_tz": -540
    },
    "id": "nHEPsXZgaXJs",
    "outputId": "d913db8b-640b-4c8e-c833-997535150432"
   },
   "outputs": [],
   "source": [
    "%%time\n",
    "#SVM\n",
    "from sklearn.model_selection import GridSearchCV\n",
    "rf_params = {\n",
    "    'C': [1,10, 100],\n",
    "    \"kernel\":['poly','rbf','sigmoid'],\n",
    "    \"epsilon\":[0.01,0.1,1]\n",
    "}\n",
    "clf = SVR(gamma='scale')\n",
    "grid = GridSearchCV(clf, rf_params, cv=3, scoring='neg_mean_squared_error')\n",
    "grid.fit(X, y)\n",
    "print(grid.best_params_)\n",
    "print(\"MSE:\"+ str(-grid.best_score_))"
   ]
  },
  {
   "cell_type": "code",
   "execution_count": null,
   "metadata": {
    "colab": {
     "base_uri": "https://localhost:8080/"
    },
    "executionInfo": {
     "elapsed": 9,
     "status": "ok",
     "timestamp": 1686712369033,
     "user": {
      "displayName": "Byungkyu Ji",
      "userId": "07239397859272093769"
     },
     "user_tz": -540
    },
    "id": "NdZ4B4RBaXJt",
    "outputId": "5da6b6f0-e007-4d72-da1a-1de7ad3ec4e7"
   },
   "outputs": [],
   "source": [
    "%%time\n",
    "#KNN\n",
    "from sklearn.model_selection import GridSearchCV\n",
    "rf_params = {\n",
    "    'n_neighbors': [2, 3, 5, 7, 10]\n",
    "}\n",
    "clf = KNeighborsRegressor()\n",
    "grid = GridSearchCV(clf, rf_params, cv=3, scoring='neg_mean_squared_error')\n",
    "grid.fit(X, y)\n",
    "print(grid.best_params_)\n",
    "print(\"MSE:\"+ str(-grid.best_score_))"
   ]
  },
  {
   "cell_type": "code",
   "execution_count": null,
   "metadata": {
    "colab": {
     "background_save": true,
     "base_uri": "https://localhost:8080/"
    },
    "id": "AawWevXaaXJu",
    "outputId": "c4dcc1fa-d102-4393-c174-a176f80525f7"
   },
   "outputs": [],
   "source": [
    "%%time\n",
    "#ANN\n",
    "from sklearn.model_selection import GridSearchCV\n",
    "rf_params = {\n",
    "    'optimizer': ['adam','rmsprop'],\n",
    "    'activation': ['relu','tanh'],\n",
    "    'loss': ['mse','mae'],\n",
    "    'batch_size': [16,32],\n",
    "    'neurons':[16,32],\n",
    "    #'epochs':[20,50],\n",
    "    'patience':[2,5]\n",
    "}\n",
    "clf = KerasRegressor(build_fn=ANN, verbose=0)\n",
    "grid = GridSearchCV(clf, rf_params, cv=3,scoring='neg_mean_squared_error')\n",
    "grid.fit(X, y)\n",
    "print(grid.best_params_)\n",
    "print(\"MSE:\"+ str(-grid.best_score_))"
   ]
  },
  {
   "cell_type": "markdown",
   "metadata": {
    "id": "r8btri3ZaXJu"
   },
   "source": [
    "## HPO Algorithm 2: Random Search\n",
    "주어진 Search Space에서 하이퍼파라미터 random 탐색\n",
    "\n",
    "**Advantages:**\n",
    "* Grid Search 보다 효율적인 탐색.\n",
    "* 병렬 처리가 가능함.\n",
    "\n",
    "**Disadvantages:**\n",
    "* 이전 결과를 활용하지 않음.\n",
    "* 조건부 HPs에 비효율적."
   ]
  },
  {
   "cell_type": "code",
   "execution_count": null,
   "metadata": {
    "colab": {
     "base_uri": "https://localhost:8080/"
    },
    "executionInfo": {
     "elapsed": 39841,
     "status": "ok",
     "timestamp": 1686721240624,
     "user": {
      "displayName": "Byungkyu Ji",
      "userId": "07239397859272093769"
     },
     "user_tz": -540
    },
    "id": "yIwRzqR_aXJu",
    "outputId": "c07047f1-3886-47f8-cb7a-717aeae93006"
   },
   "outputs": [],
   "source": [
    "%%time\n",
    "#Random Forest\n",
    "from scipy.stats import randint as sp_randint\n",
    "from sklearn.model_selection import RandomizedSearchCV\n",
    "# Define the hyperparameter configuration space\n",
    "rf_params = {\n",
    "    'n_estimators': sp_randint(10,100),\n",
    "    \"max_features\":sp_randint(1,13),\n",
    "    'max_depth': sp_randint(5,50),\n",
    "    \"min_samples_split\":sp_randint(2,11),\n",
    "    \"min_samples_leaf\":sp_randint(1,11),\n",
    "    \"criterion\":['squared_error','absolute_error']\n",
    "}\n",
    "n_iter_search=20 #number of iterations is set to 20, you can increase this number if time permits\n",
    "clf = RandomForestRegressor(random_state=0)\n",
    "Random = RandomizedSearchCV(clf, param_distributions=rf_params,n_iter=n_iter_search,cv=3,scoring='neg_mean_squared_error')\n",
    "Random.fit(X, y)\n",
    "print(Random.best_params_)\n",
    "print(\"MSE:\"+ str(-Random.best_score_))"
   ]
  },
  {
   "cell_type": "code",
   "execution_count": null,
   "metadata": {
    "colab": {
     "base_uri": "https://localhost:8080/"
    },
    "executionInfo": {
     "elapsed": 6420,
     "status": "ok",
     "timestamp": 1686721362642,
     "user": {
      "displayName": "Byungkyu Ji",
      "userId": "07239397859272093769"
     },
     "user_tz": -540
    },
    "id": "3h3clBXjaXJv",
    "outputId": "7a764f9a-cdaa-4d6b-f3ea-219f92b5a647"
   },
   "outputs": [],
   "source": [
    "%%time\n",
    "#SVM\n",
    "from scipy.stats import randint as sp_randint\n",
    "from sklearn.model_selection import RandomizedSearchCV\n",
    "rf_params = {\n",
    "    'C': stats.uniform(0,50),\n",
    "    \"kernel\":['poly','rbf','sigmoid'],\n",
    "    \"epsilon\":stats.uniform(0,1)\n",
    "}\n",
    "n_iter_search=20\n",
    "clf = SVR(gamma='scale')\n",
    "Random = RandomizedSearchCV(clf, param_distributions=rf_params,n_iter=n_iter_search,cv=3,scoring='neg_mean_squared_error')\n",
    "Random.fit(X, y)\n",
    "print(Random.best_params_)\n",
    "print(\"MSE:\"+ str(-Random.best_score_))"
   ]
  },
  {
   "cell_type": "code",
   "execution_count": null,
   "metadata": {
    "colab": {
     "base_uri": "https://localhost:8080/"
    },
    "executionInfo": {
     "elapsed": 770,
     "status": "ok",
     "timestamp": 1686721424714,
     "user": {
      "displayName": "Byungkyu Ji",
      "userId": "07239397859272093769"
     },
     "user_tz": -540
    },
    "id": "IzyEVRHoaXJv",
    "outputId": "be238217-12d8-4c1c-c0fe-9f857b9bd114"
   },
   "outputs": [],
   "source": [
    "%%time\n",
    "#KNN\n",
    "from scipy.stats import randint as sp_randint\n",
    "from sklearn.model_selection import RandomizedSearchCV\n",
    "rf_params = {\n",
    "    'n_neighbors': sp_randint(1,20),\n",
    "}\n",
    "n_iter_search=10\n",
    "clf = KNeighborsRegressor()\n",
    "Random = RandomizedSearchCV(clf, param_distributions=rf_params,n_iter=n_iter_search,cv=3,scoring='neg_mean_squared_error')\n",
    "Random.fit(X, y)\n",
    "print(Random.best_params_)\n",
    "print(\"MSE:\"+ str(-Random.best_score_))"
   ]
  },
  {
   "cell_type": "code",
   "execution_count": null,
   "metadata": {
    "colab": {
     "background_save": true
    },
    "id": "ch1Pwt4HaXJv",
    "outputId": "b0e435bd-80a4-4564-ec84-2501c38565e5"
   },
   "outputs": [],
   "source": [
    "%%time\n",
    "#ANN\n",
    "from scipy.stats import randint as sp_randint\n",
    "from random import randrange as sp_randrange\n",
    "from sklearn.model_selection import RandomizedSearchCV\n",
    "rf_params = {\n",
    "    'optimizer': ['adam','rmsprop'],\n",
    "    'activation': ['relu','tanh'],\n",
    "    'loss': ['mse','mae'],\n",
    "    'batch_size': [16,32,64],\n",
    "    'neurons':sp_randint(10,100),\n",
    "    'epochs':[20,50],\n",
    "    #'epochs':[20,50,100,200],\n",
    "    'patience':sp_randint(3,20)\n",
    "}\n",
    "n_iter_search=10\n",
    "clf = KerasRegressor(build_fn=ANN, verbose=0)\n",
    "Random = RandomizedSearchCV(clf, param_distributions=rf_params,n_iter=n_iter_search,cv=3,scoring='neg_mean_squared_error')\n",
    "Random.fit(X, y)\n",
    "print(Random.best_params_)\n",
    "print(\"MSE:\"+ str(-Random.best_score_))"
   ]
  },
  {
   "cell_type": "markdown",
   "metadata": {
    "id": "TCge1Oh1aXJw"
   },
   "source": [
    "## HPO Algorithm 3: Successive Halving\n",
    "Generate small-sized subsets and allocate budgets to each hyper-parameter combination based on its performance\n",
    "\n",
    "**Advantages:**\n",
    "* 병렬 처리가 가능함.\n",
    "\n",
    "**Disadvantages:**\n",
    "* 조건부 HPs에 비효율적."
   ]
  },
  {
   "cell_type": "code",
   "execution_count": null,
   "metadata": {
    "colab": {
     "base_uri": "https://localhost:8080/"
    },
    "executionInfo": {
     "elapsed": 83198,
     "status": "ok",
     "timestamp": 1686722858796,
     "user": {
      "displayName": "Byungkyu Ji",
      "userId": "07239397859272093769"
     },
     "user_tz": -540
    },
    "id": "4nsJZ3T_aXJw",
    "outputId": "c9a6b5e3-d038-424c-fde5-b78fdd75b152"
   },
   "outputs": [],
   "source": [
    "%%time\n",
    "#Random Forest\n",
    "from sklearn.experimental import enable_halving_search_cv\n",
    "from sklearn.model_selection import HalvingRandomSearchCV\n",
    "from scipy.stats import randint as sp_randint\n",
    "# Define the hyperparameter configuration space\n",
    "rf_params = {\n",
    "    'n_estimators': sp_randint(10,100),\n",
    "    \"max_features\":sp_randint(1,13),\n",
    "    'max_depth': sp_randint(5,50),\n",
    "    \"min_samples_split\":sp_randint(2,11),\n",
    "    \"min_samples_leaf\":sp_randint(1,11),\n",
    "    \"criterion\":['squared_error','absolute_error']\n",
    "}\n",
    "clf = RandomForestRegressor(random_state=0)\n",
    "#hyper = HalvingRandomSearchCV(clf, param_distributions =rf_params,cv=3,min_iter=10,max_iter=100,scoring='neg_mean_squared_error')\n",
    "hyper = HalvingRandomSearchCV(clf, param_distributions =rf_params,cv=3,scoring='neg_mean_squared_error')\n",
    "hyper.fit(X, y)\n",
    "print(hyper.best_params_)\n",
    "print(\"MSE:\"+ str(-hyper.best_score_))"
   ]
  },
  {
   "cell_type": "code",
   "execution_count": null,
   "metadata": {
    "colab": {
     "base_uri": "https://localhost:8080/"
    },
    "executionInfo": {
     "elapsed": 4803,
     "status": "ok",
     "timestamp": 1686722863597,
     "user": {
      "displayName": "Byungkyu Ji",
      "userId": "07239397859272093769"
     },
     "user_tz": -540
    },
    "id": "v_1HV1sJaXJw",
    "outputId": "edc0d3f9-a405-4184-c889-fb126227793c"
   },
   "outputs": [],
   "source": [
    "%%time\n",
    "#SVM\n",
    "from scipy.stats import randint as sp_randint\n",
    "rf_params = {\n",
    "    'C': stats.uniform(0,50),\n",
    "    \"kernel\":['poly','rbf','sigmoid'],\n",
    "    \"epsilon\":stats.uniform(0,1)\n",
    "}\n",
    "clf = SVR(gamma='scale')\n",
    "#hyper = HalvingRandomSearchCV(clf, param_distributions =rf_params,cv=3,min_iter=1,max_iter=10,scoring='neg_mean_squared_error',resource_param='C')\n",
    "hyper = HalvingRandomSearchCV(clf, param_distributions =rf_params,cv=3,scoring='neg_mean_squared_error')\n",
    "hyper.fit(X, y)\n",
    "print(hyper.best_params_)\n",
    "print(\"MSE:\"+ str(-hyper.best_score_))"
   ]
  },
  {
   "cell_type": "code",
   "execution_count": null,
   "metadata": {
    "colab": {
     "background_save": true
    },
    "id": "ELGAyFaXaXJw",
    "outputId": "7e3e974c-f861-44d7-c008-1ccfe1a0861a"
   },
   "outputs": [],
   "source": [
    "#KNN\n",
    "from scipy.stats import randint as sp_randint\n",
    "rf_params = {\n",
    "    'n_neighbors': range(1,20),\n",
    "}\n",
    "clf = KNeighborsRegressor()\n",
    "#hyper = HalvingRandomSearchCV(clf, param_distributions =rf_params,cv=3,min_iter=1,max_iter=20,scoring='neg_mean_squared_error',resource_param='n_neighbors')\n",
    "hyper = HalvingRandomSearchCV(clf, param_distributions =rf_params,cv=3, min_resources =200,scoring='neg_mean_squared_error')\n",
    "hyper.fit(X, y)\n",
    "print(hyper.best_params_)\n",
    "print(\"MSE:\"+ str(-hyper.best_score_))"
   ]
  },
  {
   "cell_type": "code",
   "execution_count": null,
   "metadata": {
    "colab": {
     "background_save": true
    },
    "id": "GKlnUOS1aXJw",
    "outputId": "67c1a368-e01b-45b5-ea9a-411962b4e10d"
   },
   "outputs": [],
   "source": [
    "%%time\n",
    "#ANN\n",
    "from scipy.stats import randint as sp_randint\n",
    "rf_params = {\n",
    "    'optimizer': ['adam','rmsprop'],\n",
    "    'activation': ['relu','tanh'],\n",
    "    'loss': ['mse','mae'],\n",
    "    'batch_size': [16,32,64],\n",
    "    'neurons':sp_randint(10,100),\n",
    "    #'epochs':[20,50],\n",
    "    #'epochs':[20,50,100,200],\n",
    "    'patience':sp_randint(3,20)\n",
    "}\n",
    "clf = KerasRegressor(build_fn=ANN, epochs=20, verbose=0)\n",
    "#hyper = HalvingRandomSearchCV(clf, param_distributions =rf_params,cv=3,min_iter=1,max_iter=10,scoring='neg_mean_squared_error',resource_param='epochs')\n",
    "hyper = HalvingRandomSearchCV(clf, param_distributions =rf_params,min_resources =200,cv=3,scoring='neg_mean_squared_error')\n",
    "hyper.fit(X, y)\n",
    "print(hyper.best_params_)\n",
    "print(\"MSE:\"+ str(-hyper.best_score_))"
   ]
  },
  {
   "cell_type": "markdown",
   "metadata": {
    "id": "I4s_3G8maXJx"
   },
   "source": [
    "## HPO Algorithm 4: BO-GP\n",
    "Bayesian Optimization with Gaussian Process (BO-GP)\n",
    "\n",
    "**Advantages:**\n",
    "* continuous HPs 대해서 빠른 수렴.\n",
    "\n",
    "**Disadvantages:**\n",
    "* 병렬 처리가 어려움.\n",
    "* 조건부 HPs에 비효율적."
   ]
  },
  {
   "cell_type": "markdown",
   "metadata": {
    "id": "oJIswwWQaXJx"
   },
   "source": [
    "### Using skopt.BayesSearchCV"
   ]
  },
  {
   "cell_type": "code",
   "execution_count": null,
   "metadata": {
    "colab": {
     "background_save": true
    },
    "id": "ZL9MwdJGaXJx",
    "outputId": "6d3e0961-6c8e-455e-b510-5eb3a3aab8ce"
   },
   "outputs": [],
   "source": [
    "%%time\n",
    "#Random Forest\n",
    "from skopt import Optimizer\n",
    "from skopt import BayesSearchCV\n",
    "from skopt.space import Real, Categorical, Integer\n",
    "# Define the hyperparameter configuration space\n",
    "rf_params = {\n",
    "    'n_estimators': Integer(10,100),\n",
    "    \"max_features\":Integer(1,13),\n",
    "    'max_depth': Integer(5,50),\n",
    "    \"min_samples_split\":Integer(2,11),\n",
    "    \"min_samples_leaf\":Integer(1,11),\n",
    "    \"criterion\":['squared_error','absolute_error']\n",
    "}\n",
    "clf = RandomForestRegressor(random_state=0)\n",
    "Bayes = BayesSearchCV(clf, rf_params,cv=3,n_iter=20, scoring='neg_mean_squared_error')\n",
    "#number of iterations is set to 20, you can increase this number if time permits\n",
    "Bayes.fit(X, y)\n",
    "print(Bayes.best_params_)\n",
    "bclf = Bayes.best_estimator_\n",
    "print(\"MSE:\"+ str(-Bayes.best_score_))"
   ]
  },
  {
   "cell_type": "code",
   "execution_count": null,
   "metadata": {
    "colab": {
     "background_save": true
    },
    "id": "D1xw9kqsaXJx",
    "outputId": "01083127-c44e-4efb-f601-8d63183638c2"
   },
   "outputs": [],
   "source": [
    "%%time\n",
    "#SVM\n",
    "from skopt import Optimizer\n",
    "from skopt import BayesSearchCV\n",
    "from skopt.space import Real, Categorical, Integer\n",
    "rf_params = {\n",
    "    'C': Real(1e-6,50),\n",
    "    \"kernel\":['poly','rbf','sigmoid'],\n",
    "    'epsilon': Real(0,1)\n",
    "}\n",
    "clf = SVR(gamma='scale')\n",
    "Bayes = BayesSearchCV(clf, rf_params,cv=3,n_iter=20, scoring='neg_mean_squared_error')\n",
    "Bayes.fit(X, y)\n",
    "print(Bayes.best_params_)\n",
    "print(\"MSE:\"+ str(-Bayes.best_score_))"
   ]
  },
  {
   "cell_type": "code",
   "execution_count": null,
   "metadata": {
    "colab": {
     "background_save": true
    },
    "id": "DYbhLULZaXJy",
    "outputId": "bc05aead-a045-4751-fcf5-94411d416a6e"
   },
   "outputs": [],
   "source": [
    "%%time\n",
    "#KNN\n",
    "from skopt import Optimizer\n",
    "from skopt import BayesSearchCV\n",
    "from skopt.space import Real, Categorical, Integer\n",
    "rf_params = {\n",
    "    'n_neighbors': Integer(1,20),\n",
    "}\n",
    "clf = KNeighborsRegressor()\n",
    "Bayes = BayesSearchCV(clf, rf_params,cv=3,n_iter=10, scoring='neg_mean_squared_error')\n",
    "Bayes.fit(X, y)\n",
    "print(Bayes.best_params_)\n",
    "print(\"MSE:\"+ str(-Bayes.best_score_))"
   ]
  },
  {
   "cell_type": "code",
   "execution_count": null,
   "metadata": {
    "colab": {
     "background_save": true
    },
    "id": "xnvAbPZZaXJy",
    "outputId": "2421a358-9857-4e0a-a90a-897c2068f254"
   },
   "outputs": [],
   "source": [
    "%%time\n",
    "#ANN\n",
    "from skopt import Optimizer\n",
    "from skopt import BayesSearchCV\n",
    "from skopt.space import Real, Categorical, Integer\n",
    "rf_params = {\n",
    "    'optimizer': ['adam','rmsprop'],\n",
    "    'activation': ['relu','tanh'],\n",
    "    'loss': ['mse','mae'],\n",
    "    'batch_size': [16,32,64],\n",
    "    'neurons':Integer(10,100),\n",
    "    #'epochs':[20,50],\n",
    "    #'epochs':[20,50,100,200],\n",
    "    'patience':Integer(3,20)\n",
    "}\n",
    "clf = KerasRegressor(build_fn=ANN, verbose=0)\n",
    "Bayes = BayesSearchCV(clf, rf_params,cv=3,n_iter=10, scoring='neg_mean_squared_error')\n",
    "Bayes.fit(X, y)\n",
    "print(Bayes.best_params_)\n",
    "print(\"MSE:\"+ str(-Bayes.best_score_))"
   ]
  },
  {
   "cell_type": "markdown",
   "metadata": {
    "id": "EdBI3l8iaXJy"
   },
   "source": [
    "### Using skopt.gp_minimize"
   ]
  },
  {
   "cell_type": "code",
   "execution_count": null,
   "metadata": {
    "colab": {
     "background_save": true
    },
    "id": "bgfhP8tiaXJz",
    "outputId": "bbc5fc22-5a24-470a-ab8d-d06a79749924"
   },
   "outputs": [],
   "source": [
    "%%time\n",
    "#Random Forest\n",
    "from skopt.space import Real, Integer\n",
    "from skopt.utils import use_named_args\n",
    "\n",
    "reg = RandomForestRegressor()\n",
    "# Define the hyperparameter configuration space\n",
    "space  = [Integer(10, 100, name='n_estimators'),\n",
    "            Integer(5, 50, name='max_depth'),\n",
    "          Integer(1, 13, name='max_features'),\n",
    "          Integer(2, 11, name='min_samples_split'),\n",
    "          Integer(1, 11, name='min_samples_leaf'),\n",
    "         Categorical(['squared_error', 'absolute_error'], name='criterion')\n",
    "         ]\n",
    "# Define the objective function\n",
    "@use_named_args(space)\n",
    "def objective(**params):\n",
    "    reg.set_params(**params)\n",
    "\n",
    "    return -np.mean(cross_val_score(reg, X, y, cv=3, n_jobs=-1,\n",
    "                                    scoring=\"neg_mean_squared_error\"))\n",
    "from skopt import gp_minimize\n",
    "res_gp = gp_minimize(objective, space, n_calls=20, random_state=0)\n",
    "#number of iterations is set to 20, you can increase this number if time permits\n",
    "print(\"MSE:%.4f\" % res_gp.fun)\n",
    "print(res_gp.x)"
   ]
  },
  {
   "cell_type": "code",
   "execution_count": null,
   "metadata": {
    "colab": {
     "background_save": true
    },
    "id": "HH6ZWxtGaXJz",
    "outputId": "d232fa16-156f-4ccf-b74c-9c4c3b9c5d5f"
   },
   "outputs": [],
   "source": [
    "%%time\n",
    "#SVM\n",
    "from skopt.space import Real, Integer\n",
    "from skopt.utils import use_named_args\n",
    "\n",
    "reg = SVR(gamma='scale')\n",
    "space  = [Real(1e-6,50, name='C'),\n",
    "          Categorical(['poly','rbf','sigmoid'], name='kernel'),\n",
    "          Real(0, 1, name='epsilon'),\n",
    "         ]\n",
    "\n",
    "@use_named_args(space)\n",
    "def objective(**params):\n",
    "    reg.set_params(**params)\n",
    "\n",
    "    return -np.mean(cross_val_score(reg, X, y, cv=3, n_jobs=-1,\n",
    "                                    scoring=\"neg_mean_squared_error\"))\n",
    "from skopt import gp_minimize\n",
    "res_gp = gp_minimize(objective, space, n_calls=20, random_state=0)\n",
    "print(\"MSE:%.4f\" % res_gp.fun)\n",
    "print(res_gp.x)"
   ]
  },
  {
   "cell_type": "code",
   "execution_count": null,
   "metadata": {
    "colab": {
     "background_save": true
    },
    "id": "5fUGSE8haXJz",
    "outputId": "9a9a15d5-2009-4465-a156-c75c6c073071"
   },
   "outputs": [],
   "source": [
    "%%time\n",
    "#KNN\n",
    "from skopt.space import Real, Integer\n",
    "from skopt.utils import use_named_args\n",
    "\n",
    "reg = KNeighborsRegressor()\n",
    "space  = [Integer(1, 20, name='n_neighbors')]\n",
    "\n",
    "@use_named_args(space)\n",
    "def objective(**params):\n",
    "    reg.set_params(**params)\n",
    "\n",
    "    return -np.mean(cross_val_score(reg, X, y, cv=3, n_jobs=-1,\n",
    "                                    scoring=\"neg_mean_squared_error\"))\n",
    "from skopt import gp_minimize\n",
    "res_gp = gp_minimize(objective, space, n_calls=10, random_state=0)\n",
    "print(\"MSE:%.4f\" % res_gp.fun)\n",
    "print(res_gp.x)"
   ]
  },
  {
   "cell_type": "markdown",
   "metadata": {
    "id": "k4K8HoMUawqu"
   },
   "source": [
    "# AutoML Libraries\n"
   ]
  },
  {
   "cell_type": "markdown",
   "metadata": {
    "id": "ggAJJnzFlEN5"
   },
   "source": [
    "## MLJAR-supervised"
   ]
  },
  {
   "cell_type": "code",
   "execution_count": null,
   "metadata": {
    "colab": {
     "base_uri": "https://localhost:8080/",
     "height": 424
    },
    "executionInfo": {
     "elapsed": 50330,
     "status": "ok",
     "timestamp": 1686705048801,
     "user": {
      "displayName": "Byungkyu Ji",
      "userId": "07239397859272093769"
     },
     "user_tz": -540
    },
    "id": "frMi7q7ma28g",
    "outputId": "c125d05c-2b4c-4b2f-bbf8-1a3711e0c9b2"
   },
   "outputs": [],
   "source": [
    "%%time\n",
    "from supervised.automl import AutoML\n",
    "automl = AutoML()\n",
    "automl.fit(X, y,cv=3)"
   ]
  },
  {
   "cell_type": "markdown",
   "metadata": {
    "id": "fOu6ezsodDb8"
   },
   "source": [
    "## pycaret"
   ]
  },
  {
   "cell_type": "code",
   "execution_count": null,
   "metadata": {
    "colab": {
     "base_uri": "https://localhost:8080/",
     "height": 663
    },
    "executionInfo": {
     "elapsed": 8326,
     "status": "ok",
     "timestamp": 1686726235425,
     "user": {
      "displayName": "Byungkyu Ji",
      "userId": "07239397859272093769"
     },
     "user_tz": -540
    },
    "id": "VJmies3ydCgP",
    "outputId": "17501dd5-9c7e-47ea-cc2c-23673b776002"
   },
   "outputs": [],
   "source": [
    "from pycaret.regression import RegressionExperiment\n",
    "s = RegressionExperiment()\n",
    "s.setup(X, target = y)"
   ]
  },
  {
   "cell_type": "code",
   "execution_count": null,
   "metadata": {
    "colab": {
     "base_uri": "https://localhost:8080/",
     "height": 645,
     "referenced_widgets": [
      "e54d13ead8f84686ba6dd1ae7c76de9a",
      "9208cd2e3f6e44759d1f462260c0a1e9",
      "c21bccb38ae64762b5c0d7566b7ad449",
      "3f28db2ac7ef46bfab853054ae7b6098",
      "633c13f4297e41c89e8021d7a19d88c6",
      "7f90b5d8e6624016906617efbf84530f",
      "6ee6dfd2fb1c4eeb97783e69aeac6fbf",
      "7380a28dc79049cb99554666b6f7bd14",
      "e9398a6fceb54e1281ba89872e93eb15",
      "53ecaca0b54246848219d13c5c2f49ca",
      "fdff40c8236c42c597a5e4e765f29c1c"
     ]
    },
    "executionInfo": {
     "elapsed": 80343,
     "status": "ok",
     "timestamp": 1686726315763,
     "user": {
      "displayName": "Byungkyu Ji",
      "userId": "07239397859272093769"
     },
     "user_tz": -540
    },
    "id": "fHbmTn1odvwH",
    "outputId": "92bec07e-0cad-4c80-82fa-6e31b6a43900"
   },
   "outputs": [],
   "source": [
    "best = s.compare_models()"
   ]
  },
  {
   "cell_type": "code",
   "execution_count": null,
   "metadata": {
    "colab": {
     "base_uri": "https://localhost:8080/"
    },
    "executionInfo": {
     "elapsed": 320,
     "status": "ok",
     "timestamp": 1686726559864,
     "user": {
      "displayName": "Byungkyu Ji",
      "userId": "07239397859272093769"
     },
     "user_tz": -540
    },
    "id": "W4WcsU9cd2kk",
    "outputId": "4d25b0e0-d445-4445-9621-b12c83a30bad"
   },
   "outputs": [],
   "source": [
    "print(best)"
   ]
  },
  {
   "cell_type": "code",
   "execution_count": null,
   "metadata": {
    "colab": {
     "base_uri": "https://localhost:8080/",
     "height": 205,
     "referenced_widgets": [
      "8a1beada896c42a09bf099a696b474c1",
      "9ba87f6888174349b0f3ba5f6dd79c3e",
      "d6d35804a3514d259dc353dbcb46c6b4",
      "5300cb02cde74fc4afe2dc2223fcdd0d",
      "c9a4790681114ed9a4b6e149e51d8d0e",
      "305a8261b69b4ff0afe5e3164fd75e2a",
      "b242e7924e9e4b028f0ace2c1d8b5119"
     ]
    },
    "executionInfo": {
     "elapsed": 461,
     "status": "ok",
     "timestamp": 1686726316722,
     "user": {
      "displayName": "Byungkyu Ji",
      "userId": "07239397859272093769"
     },
     "user_tz": -540
    },
    "id": "PFvueZu4d43m",
    "outputId": "83130ff4-bc98-4b7d-875b-a9e91f919dbe"
   },
   "outputs": [],
   "source": [
    "s.evaluate_model(best)"
   ]
  },
  {
   "cell_type": "code",
   "execution_count": null,
   "metadata": {
    "colab": {
     "base_uri": "https://localhost:8080/",
     "height": 485
    },
    "executionInfo": {
     "elapsed": 767,
     "status": "ok",
     "timestamp": 1686726317486,
     "user": {
      "displayName": "Byungkyu Ji",
      "userId": "07239397859272093769"
     },
     "user_tz": -540
    },
    "id": "91Ot-VTMd8BK",
    "outputId": "3a8f55cb-78a6-4c1b-af5c-5e0ad2a0d3e6"
   },
   "outputs": [],
   "source": [
    "s.plot_model(best, plot = 'feature')"
   ]
  }
 ],
 "metadata": {
  "anaconda-cloud": {},
  "colab": {
   "provenance": []
  },
  "kernelspec": {
   "display_name": "Python 3 (ipykernel)",
   "language": "python",
   "name": "python3"
  },
  "language_info": {
   "codemirror_mode": {
    "name": "ipython",
    "version": 3
   },
   "file_extension": ".py",
   "mimetype": "text/x-python",
   "name": "python",
   "nbconvert_exporter": "python",
   "pygments_lexer": "ipython3",
   "version": "3.10.9"
  },
  "widgets": {
   "application/vnd.jupyter.widget-state+json": {
    "305a8261b69b4ff0afe5e3164fd75e2a": {
     "model_module": "@jupyter-widgets/controls",
     "model_module_version": "1.5.0",
     "model_name": "ToggleButtonsStyleModel",
     "state": {
      "_model_module": "@jupyter-widgets/controls",
      "_model_module_version": "1.5.0",
      "_model_name": "ToggleButtonsStyleModel",
      "_view_count": null,
      "_view_module": "@jupyter-widgets/base",
      "_view_module_version": "1.2.0",
      "_view_name": "StyleView",
      "button_width": "",
      "description_width": "",
      "font_weight": ""
     }
    },
    "3f28db2ac7ef46bfab853054ae7b6098": {
     "model_module": "@jupyter-widgets/controls",
     "model_module_version": "1.5.0",
     "model_name": "HTMLModel",
     "state": {
      "_dom_classes": [],
      "_model_module": "@jupyter-widgets/controls",
      "_model_module_version": "1.5.0",
      "_model_name": "HTMLModel",
      "_view_count": null,
      "_view_module": "@jupyter-widgets/controls",
      "_view_module_version": "1.5.0",
      "_view_name": "HTMLView",
      "description": "",
      "description_tooltip": null,
      "layout": "IPY_MODEL_53ecaca0b54246848219d13c5c2f49ca",
      "placeholder": "​",
      "style": "IPY_MODEL_fdff40c8236c42c597a5e4e765f29c1c",
      "value": " 85/85 [01:20&lt;00:00,  2.10s/it]"
     }
    },
    "5300cb02cde74fc4afe2dc2223fcdd0d": {
     "model_module": "@jupyter-widgets/base",
     "model_module_version": "1.2.0",
     "model_name": "LayoutModel",
     "state": {
      "_model_module": "@jupyter-widgets/base",
      "_model_module_version": "1.2.0",
      "_model_name": "LayoutModel",
      "_view_count": null,
      "_view_module": "@jupyter-widgets/base",
      "_view_module_version": "1.2.0",
      "_view_name": "LayoutView",
      "align_content": null,
      "align_items": null,
      "align_self": null,
      "border": null,
      "bottom": null,
      "display": null,
      "flex": null,
      "flex_flow": null,
      "grid_area": null,
      "grid_auto_columns": null,
      "grid_auto_flow": null,
      "grid_auto_rows": null,
      "grid_column": null,
      "grid_gap": null,
      "grid_row": null,
      "grid_template_areas": null,
      "grid_template_columns": null,
      "grid_template_rows": null,
      "height": null,
      "justify_content": null,
      "justify_items": null,
      "left": null,
      "margin": null,
      "max_height": null,
      "max_width": null,
      "min_height": null,
      "min_width": null,
      "object_fit": null,
      "object_position": null,
      "order": null,
      "overflow": null,
      "overflow_x": null,
      "overflow_y": null,
      "padding": null,
      "right": null,
      "top": null,
      "visibility": null,
      "width": null
     }
    },
    "53ecaca0b54246848219d13c5c2f49ca": {
     "model_module": "@jupyter-widgets/base",
     "model_module_version": "1.2.0",
     "model_name": "LayoutModel",
     "state": {
      "_model_module": "@jupyter-widgets/base",
      "_model_module_version": "1.2.0",
      "_model_name": "LayoutModel",
      "_view_count": null,
      "_view_module": "@jupyter-widgets/base",
      "_view_module_version": "1.2.0",
      "_view_name": "LayoutView",
      "align_content": null,
      "align_items": null,
      "align_self": null,
      "border": null,
      "bottom": null,
      "display": null,
      "flex": null,
      "flex_flow": null,
      "grid_area": null,
      "grid_auto_columns": null,
      "grid_auto_flow": null,
      "grid_auto_rows": null,
      "grid_column": null,
      "grid_gap": null,
      "grid_row": null,
      "grid_template_areas": null,
      "grid_template_columns": null,
      "grid_template_rows": null,
      "height": null,
      "justify_content": null,
      "justify_items": null,
      "left": null,
      "margin": null,
      "max_height": null,
      "max_width": null,
      "min_height": null,
      "min_width": null,
      "object_fit": null,
      "object_position": null,
      "order": null,
      "overflow": null,
      "overflow_x": null,
      "overflow_y": null,
      "padding": null,
      "right": null,
      "top": null,
      "visibility": null,
      "width": null
     }
    },
    "633c13f4297e41c89e8021d7a19d88c6": {
     "model_module": "@jupyter-widgets/base",
     "model_module_version": "1.2.0",
     "model_name": "LayoutModel",
     "state": {
      "_model_module": "@jupyter-widgets/base",
      "_model_module_version": "1.2.0",
      "_model_name": "LayoutModel",
      "_view_count": null,
      "_view_module": "@jupyter-widgets/base",
      "_view_module_version": "1.2.0",
      "_view_name": "LayoutView",
      "align_content": null,
      "align_items": null,
      "align_self": null,
      "border": null,
      "bottom": null,
      "display": null,
      "flex": null,
      "flex_flow": null,
      "grid_area": null,
      "grid_auto_columns": null,
      "grid_auto_flow": null,
      "grid_auto_rows": null,
      "grid_column": null,
      "grid_gap": null,
      "grid_row": null,
      "grid_template_areas": null,
      "grid_template_columns": null,
      "grid_template_rows": null,
      "height": null,
      "justify_content": null,
      "justify_items": null,
      "left": null,
      "margin": null,
      "max_height": null,
      "max_width": null,
      "min_height": null,
      "min_width": null,
      "object_fit": null,
      "object_position": null,
      "order": null,
      "overflow": null,
      "overflow_x": null,
      "overflow_y": null,
      "padding": null,
      "right": null,
      "top": null,
      "visibility": "hidden",
      "width": null
     }
    },
    "6ee6dfd2fb1c4eeb97783e69aeac6fbf": {
     "model_module": "@jupyter-widgets/controls",
     "model_module_version": "1.5.0",
     "model_name": "DescriptionStyleModel",
     "state": {
      "_model_module": "@jupyter-widgets/controls",
      "_model_module_version": "1.5.0",
      "_model_name": "DescriptionStyleModel",
      "_view_count": null,
      "_view_module": "@jupyter-widgets/base",
      "_view_module_version": "1.2.0",
      "_view_name": "StyleView",
      "description_width": ""
     }
    },
    "7380a28dc79049cb99554666b6f7bd14": {
     "model_module": "@jupyter-widgets/base",
     "model_module_version": "1.2.0",
     "model_name": "LayoutModel",
     "state": {
      "_model_module": "@jupyter-widgets/base",
      "_model_module_version": "1.2.0",
      "_model_name": "LayoutModel",
      "_view_count": null,
      "_view_module": "@jupyter-widgets/base",
      "_view_module_version": "1.2.0",
      "_view_name": "LayoutView",
      "align_content": null,
      "align_items": null,
      "align_self": null,
      "border": null,
      "bottom": null,
      "display": null,
      "flex": null,
      "flex_flow": null,
      "grid_area": null,
      "grid_auto_columns": null,
      "grid_auto_flow": null,
      "grid_auto_rows": null,
      "grid_column": null,
      "grid_gap": null,
      "grid_row": null,
      "grid_template_areas": null,
      "grid_template_columns": null,
      "grid_template_rows": null,
      "height": null,
      "justify_content": null,
      "justify_items": null,
      "left": null,
      "margin": null,
      "max_height": null,
      "max_width": null,
      "min_height": null,
      "min_width": null,
      "object_fit": null,
      "object_position": null,
      "order": null,
      "overflow": null,
      "overflow_x": null,
      "overflow_y": null,
      "padding": null,
      "right": null,
      "top": null,
      "visibility": null,
      "width": null
     }
    },
    "7f90b5d8e6624016906617efbf84530f": {
     "model_module": "@jupyter-widgets/base",
     "model_module_version": "1.2.0",
     "model_name": "LayoutModel",
     "state": {
      "_model_module": "@jupyter-widgets/base",
      "_model_module_version": "1.2.0",
      "_model_name": "LayoutModel",
      "_view_count": null,
      "_view_module": "@jupyter-widgets/base",
      "_view_module_version": "1.2.0",
      "_view_name": "LayoutView",
      "align_content": null,
      "align_items": null,
      "align_self": null,
      "border": null,
      "bottom": null,
      "display": null,
      "flex": null,
      "flex_flow": null,
      "grid_area": null,
      "grid_auto_columns": null,
      "grid_auto_flow": null,
      "grid_auto_rows": null,
      "grid_column": null,
      "grid_gap": null,
      "grid_row": null,
      "grid_template_areas": null,
      "grid_template_columns": null,
      "grid_template_rows": null,
      "height": null,
      "justify_content": null,
      "justify_items": null,
      "left": null,
      "margin": null,
      "max_height": null,
      "max_width": null,
      "min_height": null,
      "min_width": null,
      "object_fit": null,
      "object_position": null,
      "order": null,
      "overflow": null,
      "overflow_x": null,
      "overflow_y": null,
      "padding": null,
      "right": null,
      "top": null,
      "visibility": null,
      "width": null
     }
    },
    "8a1beada896c42a09bf099a696b474c1": {
     "model_module": "@jupyter-widgets/controls",
     "model_module_version": "1.5.0",
     "model_name": "VBoxModel",
     "state": {
      "_dom_classes": [
       "widget-interact"
      ],
      "_model_module": "@jupyter-widgets/controls",
      "_model_module_version": "1.5.0",
      "_model_name": "VBoxModel",
      "_view_count": null,
      "_view_module": "@jupyter-widgets/controls",
      "_view_module_version": "1.5.0",
      "_view_name": "VBoxView",
      "box_style": "",
      "children": [
       "IPY_MODEL_9ba87f6888174349b0f3ba5f6dd79c3e",
       "IPY_MODEL_d6d35804a3514d259dc353dbcb46c6b4"
      ],
      "layout": "IPY_MODEL_5300cb02cde74fc4afe2dc2223fcdd0d"
     }
    },
    "9208cd2e3f6e44759d1f462260c0a1e9": {
     "model_module": "@jupyter-widgets/controls",
     "model_module_version": "1.5.0",
     "model_name": "HTMLModel",
     "state": {
      "_dom_classes": [],
      "_model_module": "@jupyter-widgets/controls",
      "_model_module_version": "1.5.0",
      "_model_name": "HTMLModel",
      "_view_count": null,
      "_view_module": "@jupyter-widgets/controls",
      "_view_module_version": "1.5.0",
      "_view_name": "HTMLView",
      "description": "",
      "description_tooltip": null,
      "layout": "IPY_MODEL_7f90b5d8e6624016906617efbf84530f",
      "placeholder": "​",
      "style": "IPY_MODEL_6ee6dfd2fb1c4eeb97783e69aeac6fbf",
      "value": "Processing: 100%"
     }
    },
    "9ba87f6888174349b0f3ba5f6dd79c3e": {
     "model_module": "@jupyter-widgets/controls",
     "model_module_version": "1.5.0",
     "model_name": "ToggleButtonsModel",
     "state": {
      "_dom_classes": [],
      "_model_module": "@jupyter-widgets/controls",
      "_model_module_version": "1.5.0",
      "_model_name": "ToggleButtonsModel",
      "_options_labels": [
       "Pipeline Plot",
       "Hyperparameters",
       "Residuals",
       "Prediction Error",
       "Cooks Distance",
       "Feature Selection",
       "Learning Curve",
       "Manifold Learning",
       "Validation Curve",
       "Feature Importance",
       "Feature Importance (All)",
       "Decision Tree",
       "Interactive Residuals"
      ],
      "_view_count": null,
      "_view_module": "@jupyter-widgets/controls",
      "_view_module_version": "1.5.0",
      "_view_name": "ToggleButtonsView",
      "button_style": "",
      "description": "Plot Type:",
      "description_tooltip": null,
      "disabled": false,
      "icons": [
       ""
      ],
      "index": 0,
      "layout": "IPY_MODEL_c9a4790681114ed9a4b6e149e51d8d0e",
      "style": "IPY_MODEL_305a8261b69b4ff0afe5e3164fd75e2a",
      "tooltips": []
     }
    },
    "b242e7924e9e4b028f0ace2c1d8b5119": {
     "model_module": "@jupyter-widgets/base",
     "model_module_version": "1.2.0",
     "model_name": "LayoutModel",
     "state": {
      "_model_module": "@jupyter-widgets/base",
      "_model_module_version": "1.2.0",
      "_model_name": "LayoutModel",
      "_view_count": null,
      "_view_module": "@jupyter-widgets/base",
      "_view_module_version": "1.2.0",
      "_view_name": "LayoutView",
      "align_content": null,
      "align_items": null,
      "align_self": null,
      "border": null,
      "bottom": null,
      "display": null,
      "flex": null,
      "flex_flow": null,
      "grid_area": null,
      "grid_auto_columns": null,
      "grid_auto_flow": null,
      "grid_auto_rows": null,
      "grid_column": null,
      "grid_gap": null,
      "grid_row": null,
      "grid_template_areas": null,
      "grid_template_columns": null,
      "grid_template_rows": null,
      "height": null,
      "justify_content": null,
      "justify_items": null,
      "left": null,
      "margin": null,
      "max_height": null,
      "max_width": null,
      "min_height": null,
      "min_width": null,
      "object_fit": null,
      "object_position": null,
      "order": null,
      "overflow": null,
      "overflow_x": null,
      "overflow_y": null,
      "padding": null,
      "right": null,
      "top": null,
      "visibility": null,
      "width": null
     }
    },
    "c21bccb38ae64762b5c0d7566b7ad449": {
     "model_module": "@jupyter-widgets/controls",
     "model_module_version": "1.5.0",
     "model_name": "FloatProgressModel",
     "state": {
      "_dom_classes": [],
      "_model_module": "@jupyter-widgets/controls",
      "_model_module_version": "1.5.0",
      "_model_name": "FloatProgressModel",
      "_view_count": null,
      "_view_module": "@jupyter-widgets/controls",
      "_view_module_version": "1.5.0",
      "_view_name": "ProgressView",
      "bar_style": "",
      "description": "",
      "description_tooltip": null,
      "layout": "IPY_MODEL_7380a28dc79049cb99554666b6f7bd14",
      "max": 85,
      "min": 0,
      "orientation": "horizontal",
      "style": "IPY_MODEL_e9398a6fceb54e1281ba89872e93eb15",
      "value": 85
     }
    },
    "c9a4790681114ed9a4b6e149e51d8d0e": {
     "model_module": "@jupyter-widgets/base",
     "model_module_version": "1.2.0",
     "model_name": "LayoutModel",
     "state": {
      "_model_module": "@jupyter-widgets/base",
      "_model_module_version": "1.2.0",
      "_model_name": "LayoutModel",
      "_view_count": null,
      "_view_module": "@jupyter-widgets/base",
      "_view_module_version": "1.2.0",
      "_view_name": "LayoutView",
      "align_content": null,
      "align_items": null,
      "align_self": null,
      "border": null,
      "bottom": null,
      "display": null,
      "flex": null,
      "flex_flow": null,
      "grid_area": null,
      "grid_auto_columns": null,
      "grid_auto_flow": null,
      "grid_auto_rows": null,
      "grid_column": null,
      "grid_gap": null,
      "grid_row": null,
      "grid_template_areas": null,
      "grid_template_columns": null,
      "grid_template_rows": null,
      "height": null,
      "justify_content": null,
      "justify_items": null,
      "left": null,
      "margin": null,
      "max_height": null,
      "max_width": null,
      "min_height": null,
      "min_width": null,
      "object_fit": null,
      "object_position": null,
      "order": null,
      "overflow": null,
      "overflow_x": null,
      "overflow_y": null,
      "padding": null,
      "right": null,
      "top": null,
      "visibility": null,
      "width": null
     }
    },
    "d6d35804a3514d259dc353dbcb46c6b4": {
     "model_module": "@jupyter-widgets/output",
     "model_module_version": "1.0.0",
     "model_name": "OutputModel",
     "state": {
      "_dom_classes": [],
      "_model_module": "@jupyter-widgets/output",
      "_model_module_version": "1.0.0",
      "_model_name": "OutputModel",
      "_view_count": null,
      "_view_module": "@jupyter-widgets/output",
      "_view_module_version": "1.0.0",
      "_view_name": "OutputView",
      "layout": "IPY_MODEL_b242e7924e9e4b028f0ace2c1d8b5119",
      "msg_id": "",
      "outputs": [
       {
        "data": {
         "image/png": "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\n",
         "text/plain": "<Figure size 1700x600 with 1 Axes>"
        },
        "metadata": {},
        "output_type": "display_data"
       }
      ]
     }
    },
    "e54d13ead8f84686ba6dd1ae7c76de9a": {
     "model_module": "@jupyter-widgets/controls",
     "model_module_version": "1.5.0",
     "model_name": "HBoxModel",
     "state": {
      "_dom_classes": [],
      "_model_module": "@jupyter-widgets/controls",
      "_model_module_version": "1.5.0",
      "_model_name": "HBoxModel",
      "_view_count": null,
      "_view_module": "@jupyter-widgets/controls",
      "_view_module_version": "1.5.0",
      "_view_name": "HBoxView",
      "box_style": "",
      "children": [
       "IPY_MODEL_9208cd2e3f6e44759d1f462260c0a1e9",
       "IPY_MODEL_c21bccb38ae64762b5c0d7566b7ad449",
       "IPY_MODEL_3f28db2ac7ef46bfab853054ae7b6098"
      ],
      "layout": "IPY_MODEL_633c13f4297e41c89e8021d7a19d88c6"
     }
    },
    "e9398a6fceb54e1281ba89872e93eb15": {
     "model_module": "@jupyter-widgets/controls",
     "model_module_version": "1.5.0",
     "model_name": "ProgressStyleModel",
     "state": {
      "_model_module": "@jupyter-widgets/controls",
      "_model_module_version": "1.5.0",
      "_model_name": "ProgressStyleModel",
      "_view_count": null,
      "_view_module": "@jupyter-widgets/base",
      "_view_module_version": "1.2.0",
      "_view_name": "StyleView",
      "bar_color": null,
      "description_width": ""
     }
    },
    "fdff40c8236c42c597a5e4e765f29c1c": {
     "model_module": "@jupyter-widgets/controls",
     "model_module_version": "1.5.0",
     "model_name": "DescriptionStyleModel",
     "state": {
      "_model_module": "@jupyter-widgets/controls",
      "_model_module_version": "1.5.0",
      "_model_name": "DescriptionStyleModel",
      "_view_count": null,
      "_view_module": "@jupyter-widgets/base",
      "_view_module_version": "1.2.0",
      "_view_name": "StyleView",
      "description_width": ""
     }
    }
   }
  }
 },
 "nbformat": 4,
 "nbformat_minor": 1
}
